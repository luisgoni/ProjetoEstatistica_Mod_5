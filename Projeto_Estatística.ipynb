{
  "nbformat": 4,
  "nbformat_minor": 0,
  "metadata": {
    "colab": {
      "provenance": [],
      "include_colab_link": true
    },
    "kernelspec": {
      "name": "python3",
      "display_name": "Python 3"
    },
    "language_info": {
      "name": "python"
    }
  },
  "cells": [
    {
      "cell_type": "markdown",
      "metadata": {
        "id": "view-in-github",
        "colab_type": "text"
      },
      "source": [
        "<a href=\"https://colab.research.google.com/github/luisgoni/ProjetoEstatistica_Mod_5/blob/main/Projeto_Estat%C3%ADstica.ipynb\" target=\"_parent\"><img src=\"https://colab.research.google.com/assets/colab-badge.svg\" alt=\"Open In Colab\"/></a>"
      ]
    },
    {
      "cell_type": "markdown",
      "source": [
        "#Grupo📝\n",
        "##João Varella,\n",
        "##Sávio Murillo,\n",
        "##Luciana Nunes,\n",
        "##Cleverson Guandalin,\n",
        "##Luis Gonigoni."
      ],
      "metadata": {
        "id": "4MfWORPlgnQm"
      }
    },
    {
      "cell_type": "markdown",
      "source": [
        "###Esboço do Projeto(Rubrica);"
      ],
      "metadata": {
        "id": "VuclroCr8m_o"
      }
    },
    {
      "cell_type": "markdown",
      "metadata": {
        "id": "81f5512a"
      },
      "source": [
        "1) Entender o problema (objetivo)\n",
        "\n",
        "2) Entender os dados (usar a estatística para isso)\n",
        "- Descrever as colunas\n",
        "- Tem dado faltante?\n",
        "- Quantas colunas numéricas (quantitativas) e quantas categóricas (qualitativas)? Classifique\n",
        "- Calcular média, mediana, desvio padrão, quartis, percentis, assimetria, moda, correlação\n",
        "- Identificar os outliers\n",
        "- Criar gráficos para fazer a visualização dos dados\n",
        "\n",
        "3) Limpar os dados (preparar os dados)"
      ]
    },
    {
      "cell_type": "markdown",
      "source": [
        "**Objetivo**\n",
        "O objetivo deste trabalho é mostrar quais são os jogos mais populares com base no Metacritic.\n",
        "\n",
        "PS: São os jogos mais populares, não os melhores, ou seja: neste caso, o que define a popularidade de um jogo é a quantidade de avaliações, não a sua nota. 😉"
      ],
      "metadata": {
        "id": "_ViQZhb9oqlJ"
      }
    },
    {
      "cell_type": "markdown",
      "source": [
        "**Sobre o conjunto de dados**\n",
        "\n",
        "🎮O conjunto de dados contém todos os jogos apresentados no Metacritic.com de 1995 a janeiro de 2024. Inclui mais de 14.000 títulos de jogos exclusivos (first party) e em todas as plataformas (third party), também são jogos dos mais diversos gêneros🕹️"
      ],
      "metadata": {
        "id": "9K2bLFkSk79g"
      }
    },
    {
      "cell_type": "markdown",
      "source": [
        "**Descrição das colunas**\n",
        "\n",
        "Title: Qualitativa nominal\n",
        "\n",
        "Release Date:\n",
        "\n",
        "Developer: Qualitativa nominal\n",
        "\n",
        "Publisher: Qualitativa nominal\n",
        "\n",
        "Genres: Qualitativa ordinal\n",
        "\n",
        "Product Rating: Qualitativa ordinal\n",
        "\n",
        "User Score: Quantitativa contínua\n",
        "\n",
        "User Ratings Count: Quantitativa discreta\n",
        "\n",
        "Platforms Info: Qualitativa nominal\n",
        "\n",
        "Total rating:\tQuantitativa contínua\n",
        "\n",
        "Release Year:\n",
        "\n",
        "Ranking: Qualitativa ordinal"
      ],
      "metadata": {
        "id": "NaH0W1OdqUxV"
      }
    },
    {
      "cell_type": "markdown",
      "source": [
        "###Começando as analises dos Dados e seus respectivos procedimento 📈"
      ],
      "metadata": {
        "id": "uRazvVmQ838l"
      }
    },
    {
      "cell_type": "code",
      "source": [
        "# Importando bibliotecas utilizadas;\n",
        "import pandas as pd\n",
        "import numpy as np\n",
        "import matplotlib.pyplot as plt\n",
        "import seaborn as sns\n",
        "import plotly.express as px\n",
        "import plotly.graph_objects as go\n",
        "from scipy import stats"
      ],
      "metadata": {
        "id": "rWHtuWpvnTb_"
      },
      "execution_count": 3,
      "outputs": []
    },
    {
      "cell_type": "code",
      "source": [
        "# Carregando o Dataset\n",
        "df = pd.read_csv('all_video_games.csv')\n",
        "df.head()"
      ],
      "metadata": {
        "colab": {
          "base_uri": "https://localhost:8080/",
          "height": 311
        },
        "id": "ff3OUocNlEHM",
        "outputId": "62b070dd-6de1-45fc-bc4c-cf6a22c09151"
      },
      "execution_count": 4,
      "outputs": [
        {
          "output_type": "execute_result",
          "data": {
            "text/plain": [
              "                           Title Release Date                    Developer  \\\n",
              "0                Ziggurat (2012)    2/17/2012  Action Button Entertainment   \n",
              "1                      4X4 EVO 2   11/15/2001             Terminal Reality   \n",
              "2                MotoGP 2 (2001)    1/22/2002                        Namco   \n",
              "3                       Gothic 3   11/14/2006                Piranha Bytes   \n",
              "4  Siege Survival: Gloria Victis    5/18/2021               FishTankStudio   \n",
              "\n",
              "         Publisher           Genres            Genres Splitted  \\\n",
              "0     Freshuu Inc.           Action                 ['Action']   \n",
              "1        Gathering  Auto Racing Sim  ['Auto', 'Racing', 'Sim']   \n",
              "2            Namco  Auto Racing Sim  ['Auto', 'Racing', 'Sim']   \n",
              "3            Aspyr      Western RPG         ['Western', 'RPG']   \n",
              "4  Black Eye Games              RPG                    ['RPG']   \n",
              "\n",
              "         Product Rating  User Score  User Ratings Count  \\\n",
              "0                   NaN         6.9                14.0   \n",
              "1  Rated E For Everyone         NaN                 NaN   \n",
              "2  Rated E For Everyone         5.8                 NaN   \n",
              "3      Rated T For Teen         7.5               832.0   \n",
              "4                   NaN         6.5                10.0   \n",
              "\n",
              "                                      Platforms Info  \n",
              "0  [{'Platform': 'iOS (iPhone/iPad)', 'Platform M...  \n",
              "1  [{'Platform': 'Xbox', 'Platform Metascore': '5...  \n",
              "2  [{'Platform': 'PlayStation 2', 'Platform Metas...  \n",
              "3  [{'Platform': 'PC', 'Platform Metascore': '63'...  \n",
              "4  [{'Platform': 'PC', 'Platform Metascore': '69'...  "
            ],
            "text/html": [
              "\n",
              "  <div id=\"df-9c60c84c-4ad4-429a-abf3-77861023c876\" class=\"colab-df-container\">\n",
              "    <div>\n",
              "<style scoped>\n",
              "    .dataframe tbody tr th:only-of-type {\n",
              "        vertical-align: middle;\n",
              "    }\n",
              "\n",
              "    .dataframe tbody tr th {\n",
              "        vertical-align: top;\n",
              "    }\n",
              "\n",
              "    .dataframe thead th {\n",
              "        text-align: right;\n",
              "    }\n",
              "</style>\n",
              "<table border=\"1\" class=\"dataframe\">\n",
              "  <thead>\n",
              "    <tr style=\"text-align: right;\">\n",
              "      <th></th>\n",
              "      <th>Title</th>\n",
              "      <th>Release Date</th>\n",
              "      <th>Developer</th>\n",
              "      <th>Publisher</th>\n",
              "      <th>Genres</th>\n",
              "      <th>Genres Splitted</th>\n",
              "      <th>Product Rating</th>\n",
              "      <th>User Score</th>\n",
              "      <th>User Ratings Count</th>\n",
              "      <th>Platforms Info</th>\n",
              "    </tr>\n",
              "  </thead>\n",
              "  <tbody>\n",
              "    <tr>\n",
              "      <th>0</th>\n",
              "      <td>Ziggurat (2012)</td>\n",
              "      <td>2/17/2012</td>\n",
              "      <td>Action Button Entertainment</td>\n",
              "      <td>Freshuu Inc.</td>\n",
              "      <td>Action</td>\n",
              "      <td>['Action']</td>\n",
              "      <td>NaN</td>\n",
              "      <td>6.9</td>\n",
              "      <td>14.0</td>\n",
              "      <td>[{'Platform': 'iOS (iPhone/iPad)', 'Platform M...</td>\n",
              "    </tr>\n",
              "    <tr>\n",
              "      <th>1</th>\n",
              "      <td>4X4 EVO 2</td>\n",
              "      <td>11/15/2001</td>\n",
              "      <td>Terminal Reality</td>\n",
              "      <td>Gathering</td>\n",
              "      <td>Auto Racing Sim</td>\n",
              "      <td>['Auto', 'Racing', 'Sim']</td>\n",
              "      <td>Rated E For Everyone</td>\n",
              "      <td>NaN</td>\n",
              "      <td>NaN</td>\n",
              "      <td>[{'Platform': 'Xbox', 'Platform Metascore': '5...</td>\n",
              "    </tr>\n",
              "    <tr>\n",
              "      <th>2</th>\n",
              "      <td>MotoGP 2 (2001)</td>\n",
              "      <td>1/22/2002</td>\n",
              "      <td>Namco</td>\n",
              "      <td>Namco</td>\n",
              "      <td>Auto Racing Sim</td>\n",
              "      <td>['Auto', 'Racing', 'Sim']</td>\n",
              "      <td>Rated E For Everyone</td>\n",
              "      <td>5.8</td>\n",
              "      <td>NaN</td>\n",
              "      <td>[{'Platform': 'PlayStation 2', 'Platform Metas...</td>\n",
              "    </tr>\n",
              "    <tr>\n",
              "      <th>3</th>\n",
              "      <td>Gothic 3</td>\n",
              "      <td>11/14/2006</td>\n",
              "      <td>Piranha Bytes</td>\n",
              "      <td>Aspyr</td>\n",
              "      <td>Western RPG</td>\n",
              "      <td>['Western', 'RPG']</td>\n",
              "      <td>Rated T For Teen</td>\n",
              "      <td>7.5</td>\n",
              "      <td>832.0</td>\n",
              "      <td>[{'Platform': 'PC', 'Platform Metascore': '63'...</td>\n",
              "    </tr>\n",
              "    <tr>\n",
              "      <th>4</th>\n",
              "      <td>Siege Survival: Gloria Victis</td>\n",
              "      <td>5/18/2021</td>\n",
              "      <td>FishTankStudio</td>\n",
              "      <td>Black Eye Games</td>\n",
              "      <td>RPG</td>\n",
              "      <td>['RPG']</td>\n",
              "      <td>NaN</td>\n",
              "      <td>6.5</td>\n",
              "      <td>10.0</td>\n",
              "      <td>[{'Platform': 'PC', 'Platform Metascore': '69'...</td>\n",
              "    </tr>\n",
              "  </tbody>\n",
              "</table>\n",
              "</div>\n",
              "    <div class=\"colab-df-buttons\">\n",
              "\n",
              "  <div class=\"colab-df-container\">\n",
              "    <button class=\"colab-df-convert\" onclick=\"convertToInteractive('df-9c60c84c-4ad4-429a-abf3-77861023c876')\"\n",
              "            title=\"Convert this dataframe to an interactive table.\"\n",
              "            style=\"display:none;\">\n",
              "\n",
              "  <svg xmlns=\"http://www.w3.org/2000/svg\" height=\"24px\" viewBox=\"0 -960 960 960\">\n",
              "    <path d=\"M120-120v-720h720v720H120Zm60-500h600v-160H180v160Zm220 220h160v-160H400v160Zm0 220h160v-160H400v160ZM180-400h160v-160H180v160Zm440 0h160v-160H620v160ZM180-180h160v-160H180v160Zm440 0h160v-160H620v160Z\"/>\n",
              "  </svg>\n",
              "    </button>\n",
              "\n",
              "  <style>\n",
              "    .colab-df-container {\n",
              "      display:flex;\n",
              "      gap: 12px;\n",
              "    }\n",
              "\n",
              "    .colab-df-convert {\n",
              "      background-color: #E8F0FE;\n",
              "      border: none;\n",
              "      border-radius: 50%;\n",
              "      cursor: pointer;\n",
              "      display: none;\n",
              "      fill: #1967D2;\n",
              "      height: 32px;\n",
              "      padding: 0 0 0 0;\n",
              "      width: 32px;\n",
              "    }\n",
              "\n",
              "    .colab-df-convert:hover {\n",
              "      background-color: #E2EBFA;\n",
              "      box-shadow: 0px 1px 2px rgba(60, 64, 67, 0.3), 0px 1px 3px 1px rgba(60, 64, 67, 0.15);\n",
              "      fill: #174EA6;\n",
              "    }\n",
              "\n",
              "    .colab-df-buttons div {\n",
              "      margin-bottom: 4px;\n",
              "    }\n",
              "\n",
              "    [theme=dark] .colab-df-convert {\n",
              "      background-color: #3B4455;\n",
              "      fill: #D2E3FC;\n",
              "    }\n",
              "\n",
              "    [theme=dark] .colab-df-convert:hover {\n",
              "      background-color: #434B5C;\n",
              "      box-shadow: 0px 1px 3px 1px rgba(0, 0, 0, 0.15);\n",
              "      filter: drop-shadow(0px 1px 2px rgba(0, 0, 0, 0.3));\n",
              "      fill: #FFFFFF;\n",
              "    }\n",
              "  </style>\n",
              "\n",
              "    <script>\n",
              "      const buttonEl =\n",
              "        document.querySelector('#df-9c60c84c-4ad4-429a-abf3-77861023c876 button.colab-df-convert');\n",
              "      buttonEl.style.display =\n",
              "        google.colab.kernel.accessAllowed ? 'block' : 'none';\n",
              "\n",
              "      async function convertToInteractive(key) {\n",
              "        const element = document.querySelector('#df-9c60c84c-4ad4-429a-abf3-77861023c876');\n",
              "        const dataTable =\n",
              "          await google.colab.kernel.invokeFunction('convertToInteractive',\n",
              "                                                    [key], {});\n",
              "        if (!dataTable) return;\n",
              "\n",
              "        const docLinkHtml = 'Like what you see? Visit the ' +\n",
              "          '<a target=\"_blank\" href=https://colab.research.google.com/notebooks/data_table.ipynb>data table notebook</a>'\n",
              "          + ' to learn more about interactive tables.';\n",
              "        element.innerHTML = '';\n",
              "        dataTable['output_type'] = 'display_data';\n",
              "        await google.colab.output.renderOutput(dataTable, element);\n",
              "        const docLink = document.createElement('div');\n",
              "        docLink.innerHTML = docLinkHtml;\n",
              "        element.appendChild(docLink);\n",
              "      }\n",
              "    </script>\n",
              "  </div>\n",
              "\n",
              "\n",
              "<div id=\"df-da68d133-4b19-48d3-aa56-0aa928bfb8ce\">\n",
              "  <button class=\"colab-df-quickchart\" onclick=\"quickchart('df-da68d133-4b19-48d3-aa56-0aa928bfb8ce')\"\n",
              "            title=\"Suggest charts\"\n",
              "            style=\"display:none;\">\n",
              "\n",
              "<svg xmlns=\"http://www.w3.org/2000/svg\" height=\"24px\"viewBox=\"0 0 24 24\"\n",
              "     width=\"24px\">\n",
              "    <g>\n",
              "        <path d=\"M19 3H5c-1.1 0-2 .9-2 2v14c0 1.1.9 2 2 2h14c1.1 0 2-.9 2-2V5c0-1.1-.9-2-2-2zM9 17H7v-7h2v7zm4 0h-2V7h2v10zm4 0h-2v-4h2v4z\"/>\n",
              "    </g>\n",
              "</svg>\n",
              "  </button>\n",
              "\n",
              "<style>\n",
              "  .colab-df-quickchart {\n",
              "      --bg-color: #E8F0FE;\n",
              "      --fill-color: #1967D2;\n",
              "      --hover-bg-color: #E2EBFA;\n",
              "      --hover-fill-color: #174EA6;\n",
              "      --disabled-fill-color: #AAA;\n",
              "      --disabled-bg-color: #DDD;\n",
              "  }\n",
              "\n",
              "  [theme=dark] .colab-df-quickchart {\n",
              "      --bg-color: #3B4455;\n",
              "      --fill-color: #D2E3FC;\n",
              "      --hover-bg-color: #434B5C;\n",
              "      --hover-fill-color: #FFFFFF;\n",
              "      --disabled-bg-color: #3B4455;\n",
              "      --disabled-fill-color: #666;\n",
              "  }\n",
              "\n",
              "  .colab-df-quickchart {\n",
              "    background-color: var(--bg-color);\n",
              "    border: none;\n",
              "    border-radius: 50%;\n",
              "    cursor: pointer;\n",
              "    display: none;\n",
              "    fill: var(--fill-color);\n",
              "    height: 32px;\n",
              "    padding: 0;\n",
              "    width: 32px;\n",
              "  }\n",
              "\n",
              "  .colab-df-quickchart:hover {\n",
              "    background-color: var(--hover-bg-color);\n",
              "    box-shadow: 0 1px 2px rgba(60, 64, 67, 0.3), 0 1px 3px 1px rgba(60, 64, 67, 0.15);\n",
              "    fill: var(--button-hover-fill-color);\n",
              "  }\n",
              "\n",
              "  .colab-df-quickchart-complete:disabled,\n",
              "  .colab-df-quickchart-complete:disabled:hover {\n",
              "    background-color: var(--disabled-bg-color);\n",
              "    fill: var(--disabled-fill-color);\n",
              "    box-shadow: none;\n",
              "  }\n",
              "\n",
              "  .colab-df-spinner {\n",
              "    border: 2px solid var(--fill-color);\n",
              "    border-color: transparent;\n",
              "    border-bottom-color: var(--fill-color);\n",
              "    animation:\n",
              "      spin 1s steps(1) infinite;\n",
              "  }\n",
              "\n",
              "  @keyframes spin {\n",
              "    0% {\n",
              "      border-color: transparent;\n",
              "      border-bottom-color: var(--fill-color);\n",
              "      border-left-color: var(--fill-color);\n",
              "    }\n",
              "    20% {\n",
              "      border-color: transparent;\n",
              "      border-left-color: var(--fill-color);\n",
              "      border-top-color: var(--fill-color);\n",
              "    }\n",
              "    30% {\n",
              "      border-color: transparent;\n",
              "      border-left-color: var(--fill-color);\n",
              "      border-top-color: var(--fill-color);\n",
              "      border-right-color: var(--fill-color);\n",
              "    }\n",
              "    40% {\n",
              "      border-color: transparent;\n",
              "      border-right-color: var(--fill-color);\n",
              "      border-top-color: var(--fill-color);\n",
              "    }\n",
              "    60% {\n",
              "      border-color: transparent;\n",
              "      border-right-color: var(--fill-color);\n",
              "    }\n",
              "    80% {\n",
              "      border-color: transparent;\n",
              "      border-right-color: var(--fill-color);\n",
              "      border-bottom-color: var(--fill-color);\n",
              "    }\n",
              "    90% {\n",
              "      border-color: transparent;\n",
              "      border-bottom-color: var(--fill-color);\n",
              "    }\n",
              "  }\n",
              "</style>\n",
              "\n",
              "  <script>\n",
              "    async function quickchart(key) {\n",
              "      const quickchartButtonEl =\n",
              "        document.querySelector('#' + key + ' button');\n",
              "      quickchartButtonEl.disabled = true;  // To prevent multiple clicks.\n",
              "      quickchartButtonEl.classList.add('colab-df-spinner');\n",
              "      try {\n",
              "        const charts = await google.colab.kernel.invokeFunction(\n",
              "            'suggestCharts', [key], {});\n",
              "      } catch (error) {\n",
              "        console.error('Error during call to suggestCharts:', error);\n",
              "      }\n",
              "      quickchartButtonEl.classList.remove('colab-df-spinner');\n",
              "      quickchartButtonEl.classList.add('colab-df-quickchart-complete');\n",
              "    }\n",
              "    (() => {\n",
              "      let quickchartButtonEl =\n",
              "        document.querySelector('#df-da68d133-4b19-48d3-aa56-0aa928bfb8ce button');\n",
              "      quickchartButtonEl.style.display =\n",
              "        google.colab.kernel.accessAllowed ? 'block' : 'none';\n",
              "    })();\n",
              "  </script>\n",
              "</div>\n",
              "\n",
              "    </div>\n",
              "  </div>\n"
            ],
            "application/vnd.google.colaboratory.intrinsic+json": {
              "type": "dataframe",
              "variable_name": "df",
              "repr_error": "'str' object has no attribute 'empty'"
            }
          },
          "metadata": {},
          "execution_count": 4
        }
      ]
    },
    {
      "cell_type": "code",
      "source": [
        "#Total de Linhas e colunas.\n",
        "df.shape"
      ],
      "metadata": {
        "id": "oL_-9Nyzkkub",
        "outputId": "a474d589-5db2-4079-d0ef-42eb2f633800",
        "colab": {
          "base_uri": "https://localhost:8080/"
        }
      },
      "execution_count": 51,
      "outputs": [
        {
          "output_type": "execute_result",
          "data": {
            "text/plain": [
              "(14055, 10)"
            ]
          },
          "metadata": {},
          "execution_count": 51
        }
      ]
    },
    {
      "cell_type": "code",
      "source": [
        "#Contabilizando os dados faltantes nos Dados.\n",
        "print(df.isnull().sum())"
      ],
      "metadata": {
        "id": "01p5RfO3_z0Y",
        "outputId": "84ebae7f-7195-4a8f-b6a2-3719546f0995",
        "colab": {
          "base_uri": "https://localhost:8080/"
        }
      },
      "execution_count": 5,
      "outputs": [
        {
          "output_type": "stream",
          "name": "stdout",
          "text": [
            "Title                   21\n",
            "Release Date            64\n",
            "Developer              138\n",
            "Publisher              138\n",
            "Genres                  21\n",
            "Genres Splitted         21\n",
            "Product Rating        3050\n",
            "User Score            2341\n",
            "User Ratings Count    2756\n",
            "Platforms Info           0\n",
            "dtype: int64\n"
          ]
        }
      ]
    },
    {
      "cell_type": "markdown",
      "source": [
        "### Copiando os dados para não alterar o dado original.\n",
        "* Alterando os nomes das colunas para melhor compreensão."
      ],
      "metadata": {
        "id": "lZG2Jv3D-J_a"
      }
    },
    {
      "cell_type": "code",
      "source": [
        "#Copiando oss dados para nao alterar o df original.\n",
        "df_auxiliar = df.copy()\n",
        "\n",
        "#Traduzido as colunas:\n",
        "df_auxiliar= df.rename(columns={\n",
        "    'Title': 'Título',\n",
        "    'Release Date': 'Ano de Lançamento',\n",
        "    'Developer': 'Desenvolvedor',\n",
        "    'Publisher': 'Editora',\n",
        "    'Genres': 'Gêneros',\n",
        "    'Genres Splitted': 'Gêneros Separados',\n",
        "    'Product Rating': 'Avaliação do Produto',\n",
        "    'User Score': 'Pontuação do Usuário',\n",
        "    'User Ratings Count': 'Número de Avaliações do Usuário',\n",
        "    'Platforms Info': 'Informações das Plataformas'\n",
        "})\n",
        "df_auxiliar.columns"
      ],
      "metadata": {
        "colab": {
          "base_uri": "https://localhost:8080/"
        },
        "id": "jD1gsX-WXNsJ",
        "outputId": "2b9744de-b036-4035-b2bc-6e6fe4d37655"
      },
      "execution_count": 6,
      "outputs": [
        {
          "output_type": "execute_result",
          "data": {
            "text/plain": [
              "Index(['Título', 'Ano de Lançamento', 'Desenvolvedor', 'Editora', 'Gêneros',\n",
              "       'Gêneros Separados', 'Avaliação do Produto', 'Pontuação do Usuário',\n",
              "       'Número de Avaliações do Usuário', 'Informações das Plataformas'],\n",
              "      dtype='object')"
            ]
          },
          "metadata": {},
          "execution_count": 6
        }
      ]
    },
    {
      "cell_type": "code",
      "source": [
        "df_auxiliar.info()"
      ],
      "metadata": {
        "colab": {
          "base_uri": "https://localhost:8080/"
        },
        "id": "1bUnKYNZoHW6",
        "outputId": "26d328c1-e961-4557-ada3-c17432209adc"
      },
      "execution_count": 7,
      "outputs": [
        {
          "output_type": "stream",
          "name": "stdout",
          "text": [
            "<class 'pandas.core.frame.DataFrame'>\n",
            "RangeIndex: 14055 entries, 0 to 14054\n",
            "Data columns (total 10 columns):\n",
            " #   Column                           Non-Null Count  Dtype  \n",
            "---  ------                           --------------  -----  \n",
            " 0   Título                           14034 non-null  object \n",
            " 1   Ano de Lançamento                13991 non-null  object \n",
            " 2   Desenvolvedor                    13917 non-null  object \n",
            " 3   Editora                          13917 non-null  object \n",
            " 4   Gêneros                          14034 non-null  object \n",
            " 5   Gêneros Separados                14034 non-null  object \n",
            " 6   Avaliação do Produto             11005 non-null  object \n",
            " 7   Pontuação do Usuário             11714 non-null  float64\n",
            " 8   Número de Avaliações do Usuário  11299 non-null  float64\n",
            " 9   Informações das Plataformas      14055 non-null  object \n",
            "dtypes: float64(2), object(8)\n",
            "memory usage: 1.1+ MB\n"
          ]
        }
      ]
    },
    {
      "cell_type": "code",
      "source": [
        "#Observando qual medida utilizar para preencher os dados faltantes.\n",
        "#Criando a variavel com o resultado.\n",
        "Mean_Ptususario= df_auxiliar['Pontuação do Usuário'].mean()\n",
        "Median_Ptusuario = df_auxiliar['Pontuação do Usuário'].median()\n",
        "Mean_NumAvaUsuario = df_auxiliar['Número de Avaliações do Usuário'].mean()\n",
        "Median_NumAvaUsuario = df_auxiliar['Número de Avaliações do Usuário'].median()\n",
        "\n",
        "print('A media de pontuação do usuario é de:',round( Mean_Ptususario,2))\n",
        "print('A Mediana da Pontuação do Usuario é de',round(Median_Ptusuario,2))\n",
        "print('A Media de Numero de avaliações do usuario é de :',round(Mean_NumAvaUsuario,2))\n",
        "print('A Mediana do Numero de avaliações do usuario é de :', round(Median_NumAvaUsuario,2))\n"
      ],
      "metadata": {
        "id": "qq-eHYNFSZc4",
        "outputId": "9cbf091b-c47a-4575-f064-2a9c35b5a8bf",
        "colab": {
          "base_uri": "https://localhost:8080/"
        }
      },
      "execution_count": 8,
      "outputs": [
        {
          "output_type": "stream",
          "name": "stdout",
          "text": [
            "A media de pontuação do usuario é de: 6.89\n",
            "A Mediana da Pontuação do Usuario é de 7.2\n",
            "A Media de Numero de avaliações do usuario é de : 245.64\n",
            "A Mediana do Numero de avaliações do usuario é de : 34.0\n"
          ]
        }
      ]
    },
    {
      "cell_type": "markdown",
      "source": [
        "### Podemos perceber que a alguns dados que iremos utilizar como metricas (importantes) faltando, com isso vamos preencher com a mediana dos dados....\n",
        "* Retiramos os dados duplicados."
      ],
      "metadata": {
        "id": "EaUuH16fBV5P"
      }
    },
    {
      "cell_type": "code",
      "source": [
        "#Preenchendo valores nas colunas atraves da mediana.\n",
        "numeric_columns = ['Pontuação do Usuário', 'Número de Avaliações do Usuário']\n",
        "df_auxiliar[numeric_columns] = df_auxiliar[numeric_columns].fillna(df_auxiliar[numeric_columns].median())\n",
        "df_auxiliar.head(10)"
      ],
      "metadata": {
        "colab": {
          "base_uri": "https://localhost:8080/",
          "height": 745
        },
        "id": "5Wu5kblHa2uu",
        "outputId": "5879fd96-55fa-42df-c790-2b1ee9f81370"
      },
      "execution_count": 103,
      "outputs": [
        {
          "output_type": "execute_result",
          "data": {
            "text/plain": [
              "                             Título Ano de Lançamento  \\\n",
              "0                   Ziggurat (2012)        2012-02-17   \n",
              "1                         4X4 EVO 2        2001-11-15   \n",
              "2                   MotoGP 2 (2001)        2002-01-22   \n",
              "3                          Gothic 3        2006-11-14   \n",
              "4     Siege Survival: Gloria Victis        2021-05-18   \n",
              "5  Guitar Hero III: Legends of Rock        2007-10-28   \n",
              "6       Frantix: A Puzzle Adventure        2005-09-19   \n",
              "7                          Xenoraid        2016-11-08   \n",
              "8            The Sims: Livin' Large        2000-08-27   \n",
              "9                        Retrovirus        2012-11-16   \n",
              "\n",
              "                 Desenvolvedor                    Editora  \\\n",
              "0  Action Button Entertainment               Freshuu Inc.   \n",
              "1             Terminal Reality                  Gathering   \n",
              "2                        Namco                      Namco   \n",
              "3                Piranha Bytes                      Aspyr   \n",
              "4               FishTankStudio            Black Eye Games   \n",
              "5      Neversoft Entertainment                  RedOctane   \n",
              "6                  Killer Game  Sony Online Entertainment   \n",
              "7                       10tons                     10tons   \n",
              "8                        Maxis                   EA Games   \n",
              "9                      Cadenza                    Cadenza   \n",
              "\n",
              "                 Gêneros             Gêneros Separados  \\\n",
              "0                 Action                    ['Action']   \n",
              "1        Auto Racing Sim     ['Auto', 'Racing', 'Sim']   \n",
              "2        Auto Racing Sim     ['Auto', 'Racing', 'Sim']   \n",
              "3            Western RPG            ['Western', 'RPG']   \n",
              "4                    RPG                       ['RPG']   \n",
              "5                 Rhythm                    ['Rhythm']   \n",
              "6          Action Puzzle          ['Action', 'Puzzle']   \n",
              "7  Vertical Shoot-'Em-Up  ['Vertical', \"Shoot-'Em-Up\"]   \n",
              "8           Virtual Life           ['Virtual', 'Life']   \n",
              "9                    FPS                       ['FPS']   \n",
              "\n",
              "           Avaliação do Produto  Pontuação do Usuário  \\\n",
              "0                           NaN                   6.9   \n",
              "1          Rated E For Everyone                   7.2   \n",
              "2          Rated E For Everyone                   5.8   \n",
              "3              Rated T For Teen                   7.5   \n",
              "4                           NaN                   6.5   \n",
              "5              Rated T For Teen                   8.4   \n",
              "6          Rated E For Everyone                   7.2   \n",
              "7  Rated E +10 For Everyone +10                   6.2   \n",
              "8              Rated T For Teen                   7.7   \n",
              "9                           NaN                   6.6   \n",
              "\n",
              "   Número de Avaliações do Usuário  \\\n",
              "0                             14.0   \n",
              "1                             34.0   \n",
              "2                             34.0   \n",
              "3                            832.0   \n",
              "4                             10.0   \n",
              "5                            144.0   \n",
              "6                             34.0   \n",
              "7                              6.0   \n",
              "8                             20.0   \n",
              "9                             20.0   \n",
              "\n",
              "                         Informações das Plataformas  Pontuaçaõ geral  \\\n",
              "0  [{'Platform': 'iOS (iPhone/iPad)', 'Platform M...             96.6   \n",
              "1  [{'Platform': 'Xbox', 'Platform Metascore': '5...            244.8   \n",
              "2  [{'Platform': 'PlayStation 2', 'Platform Metas...            197.2   \n",
              "3  [{'Platform': 'PC', 'Platform Metascore': '63'...           6240.0   \n",
              "4  [{'Platform': 'PC', 'Platform Metascore': '69'...             65.0   \n",
              "5  [{'Platform': 'Wii', 'Platform Metascore': '86...           1209.6   \n",
              "6  [{'Platform': 'PSP', 'Platform Metascore': '59...            244.8   \n",
              "7  [{'Platform': 'PlayStation 4', 'Platform Metas...             37.2   \n",
              "8  [{'Platform': 'PC', 'Platform Metascore': '82'...            154.0   \n",
              "9  [{'Platform': 'PC', 'Platform Metascore': '70'...            132.0   \n",
              "\n",
              "  Somente o ano de lancamento   \n",
              "0                       2012.0  \n",
              "1                       2001.0  \n",
              "2                       2002.0  \n",
              "3                       2006.0  \n",
              "4                       2021.0  \n",
              "5                       2007.0  \n",
              "6                       2005.0  \n",
              "7                       2016.0  \n",
              "8                       2000.0  \n",
              "9                       2012.0  "
            ],
            "text/html": [
              "\n",
              "  <div id=\"df-5f6b5f12-09ea-4834-8222-554a0942f28d\" class=\"colab-df-container\">\n",
              "    <div>\n",
              "<style scoped>\n",
              "    .dataframe tbody tr th:only-of-type {\n",
              "        vertical-align: middle;\n",
              "    }\n",
              "\n",
              "    .dataframe tbody tr th {\n",
              "        vertical-align: top;\n",
              "    }\n",
              "\n",
              "    .dataframe thead th {\n",
              "        text-align: right;\n",
              "    }\n",
              "</style>\n",
              "<table border=\"1\" class=\"dataframe\">\n",
              "  <thead>\n",
              "    <tr style=\"text-align: right;\">\n",
              "      <th></th>\n",
              "      <th>Título</th>\n",
              "      <th>Ano de Lançamento</th>\n",
              "      <th>Desenvolvedor</th>\n",
              "      <th>Editora</th>\n",
              "      <th>Gêneros</th>\n",
              "      <th>Gêneros Separados</th>\n",
              "      <th>Avaliação do Produto</th>\n",
              "      <th>Pontuação do Usuário</th>\n",
              "      <th>Número de Avaliações do Usuário</th>\n",
              "      <th>Informações das Plataformas</th>\n",
              "      <th>Pontuaçaõ geral</th>\n",
              "      <th>Somente o ano de lancamento</th>\n",
              "    </tr>\n",
              "  </thead>\n",
              "  <tbody>\n",
              "    <tr>\n",
              "      <th>0</th>\n",
              "      <td>Ziggurat (2012)</td>\n",
              "      <td>2012-02-17</td>\n",
              "      <td>Action Button Entertainment</td>\n",
              "      <td>Freshuu Inc.</td>\n",
              "      <td>Action</td>\n",
              "      <td>['Action']</td>\n",
              "      <td>NaN</td>\n",
              "      <td>6.9</td>\n",
              "      <td>14.0</td>\n",
              "      <td>[{'Platform': 'iOS (iPhone/iPad)', 'Platform M...</td>\n",
              "      <td>96.6</td>\n",
              "      <td>2012.0</td>\n",
              "    </tr>\n",
              "    <tr>\n",
              "      <th>1</th>\n",
              "      <td>4X4 EVO 2</td>\n",
              "      <td>2001-11-15</td>\n",
              "      <td>Terminal Reality</td>\n",
              "      <td>Gathering</td>\n",
              "      <td>Auto Racing Sim</td>\n",
              "      <td>['Auto', 'Racing', 'Sim']</td>\n",
              "      <td>Rated E For Everyone</td>\n",
              "      <td>7.2</td>\n",
              "      <td>34.0</td>\n",
              "      <td>[{'Platform': 'Xbox', 'Platform Metascore': '5...</td>\n",
              "      <td>244.8</td>\n",
              "      <td>2001.0</td>\n",
              "    </tr>\n",
              "    <tr>\n",
              "      <th>2</th>\n",
              "      <td>MotoGP 2 (2001)</td>\n",
              "      <td>2002-01-22</td>\n",
              "      <td>Namco</td>\n",
              "      <td>Namco</td>\n",
              "      <td>Auto Racing Sim</td>\n",
              "      <td>['Auto', 'Racing', 'Sim']</td>\n",
              "      <td>Rated E For Everyone</td>\n",
              "      <td>5.8</td>\n",
              "      <td>34.0</td>\n",
              "      <td>[{'Platform': 'PlayStation 2', 'Platform Metas...</td>\n",
              "      <td>197.2</td>\n",
              "      <td>2002.0</td>\n",
              "    </tr>\n",
              "    <tr>\n",
              "      <th>3</th>\n",
              "      <td>Gothic 3</td>\n",
              "      <td>2006-11-14</td>\n",
              "      <td>Piranha Bytes</td>\n",
              "      <td>Aspyr</td>\n",
              "      <td>Western RPG</td>\n",
              "      <td>['Western', 'RPG']</td>\n",
              "      <td>Rated T For Teen</td>\n",
              "      <td>7.5</td>\n",
              "      <td>832.0</td>\n",
              "      <td>[{'Platform': 'PC', 'Platform Metascore': '63'...</td>\n",
              "      <td>6240.0</td>\n",
              "      <td>2006.0</td>\n",
              "    </tr>\n",
              "    <tr>\n",
              "      <th>4</th>\n",
              "      <td>Siege Survival: Gloria Victis</td>\n",
              "      <td>2021-05-18</td>\n",
              "      <td>FishTankStudio</td>\n",
              "      <td>Black Eye Games</td>\n",
              "      <td>RPG</td>\n",
              "      <td>['RPG']</td>\n",
              "      <td>NaN</td>\n",
              "      <td>6.5</td>\n",
              "      <td>10.0</td>\n",
              "      <td>[{'Platform': 'PC', 'Platform Metascore': '69'...</td>\n",
              "      <td>65.0</td>\n",
              "      <td>2021.0</td>\n",
              "    </tr>\n",
              "    <tr>\n",
              "      <th>5</th>\n",
              "      <td>Guitar Hero III: Legends of Rock</td>\n",
              "      <td>2007-10-28</td>\n",
              "      <td>Neversoft Entertainment</td>\n",
              "      <td>RedOctane</td>\n",
              "      <td>Rhythm</td>\n",
              "      <td>['Rhythm']</td>\n",
              "      <td>Rated T For Teen</td>\n",
              "      <td>8.4</td>\n",
              "      <td>144.0</td>\n",
              "      <td>[{'Platform': 'Wii', 'Platform Metascore': '86...</td>\n",
              "      <td>1209.6</td>\n",
              "      <td>2007.0</td>\n",
              "    </tr>\n",
              "    <tr>\n",
              "      <th>6</th>\n",
              "      <td>Frantix: A Puzzle Adventure</td>\n",
              "      <td>2005-09-19</td>\n",
              "      <td>Killer Game</td>\n",
              "      <td>Sony Online Entertainment</td>\n",
              "      <td>Action Puzzle</td>\n",
              "      <td>['Action', 'Puzzle']</td>\n",
              "      <td>Rated E For Everyone</td>\n",
              "      <td>7.2</td>\n",
              "      <td>34.0</td>\n",
              "      <td>[{'Platform': 'PSP', 'Platform Metascore': '59...</td>\n",
              "      <td>244.8</td>\n",
              "      <td>2005.0</td>\n",
              "    </tr>\n",
              "    <tr>\n",
              "      <th>7</th>\n",
              "      <td>Xenoraid</td>\n",
              "      <td>2016-11-08</td>\n",
              "      <td>10tons</td>\n",
              "      <td>10tons</td>\n",
              "      <td>Vertical Shoot-'Em-Up</td>\n",
              "      <td>['Vertical', \"Shoot-'Em-Up\"]</td>\n",
              "      <td>Rated E +10 For Everyone +10</td>\n",
              "      <td>6.2</td>\n",
              "      <td>6.0</td>\n",
              "      <td>[{'Platform': 'PlayStation 4', 'Platform Metas...</td>\n",
              "      <td>37.2</td>\n",
              "      <td>2016.0</td>\n",
              "    </tr>\n",
              "    <tr>\n",
              "      <th>8</th>\n",
              "      <td>The Sims: Livin' Large</td>\n",
              "      <td>2000-08-27</td>\n",
              "      <td>Maxis</td>\n",
              "      <td>EA Games</td>\n",
              "      <td>Virtual Life</td>\n",
              "      <td>['Virtual', 'Life']</td>\n",
              "      <td>Rated T For Teen</td>\n",
              "      <td>7.7</td>\n",
              "      <td>20.0</td>\n",
              "      <td>[{'Platform': 'PC', 'Platform Metascore': '82'...</td>\n",
              "      <td>154.0</td>\n",
              "      <td>2000.0</td>\n",
              "    </tr>\n",
              "    <tr>\n",
              "      <th>9</th>\n",
              "      <td>Retrovirus</td>\n",
              "      <td>2012-11-16</td>\n",
              "      <td>Cadenza</td>\n",
              "      <td>Cadenza</td>\n",
              "      <td>FPS</td>\n",
              "      <td>['FPS']</td>\n",
              "      <td>NaN</td>\n",
              "      <td>6.6</td>\n",
              "      <td>20.0</td>\n",
              "      <td>[{'Platform': 'PC', 'Platform Metascore': '70'...</td>\n",
              "      <td>132.0</td>\n",
              "      <td>2012.0</td>\n",
              "    </tr>\n",
              "  </tbody>\n",
              "</table>\n",
              "</div>\n",
              "    <div class=\"colab-df-buttons\">\n",
              "\n",
              "  <div class=\"colab-df-container\">\n",
              "    <button class=\"colab-df-convert\" onclick=\"convertToInteractive('df-5f6b5f12-09ea-4834-8222-554a0942f28d')\"\n",
              "            title=\"Convert this dataframe to an interactive table.\"\n",
              "            style=\"display:none;\">\n",
              "\n",
              "  <svg xmlns=\"http://www.w3.org/2000/svg\" height=\"24px\" viewBox=\"0 -960 960 960\">\n",
              "    <path d=\"M120-120v-720h720v720H120Zm60-500h600v-160H180v160Zm220 220h160v-160H400v160Zm0 220h160v-160H400v160ZM180-400h160v-160H180v160Zm440 0h160v-160H620v160ZM180-180h160v-160H180v160Zm440 0h160v-160H620v160Z\"/>\n",
              "  </svg>\n",
              "    </button>\n",
              "\n",
              "  <style>\n",
              "    .colab-df-container {\n",
              "      display:flex;\n",
              "      gap: 12px;\n",
              "    }\n",
              "\n",
              "    .colab-df-convert {\n",
              "      background-color: #E8F0FE;\n",
              "      border: none;\n",
              "      border-radius: 50%;\n",
              "      cursor: pointer;\n",
              "      display: none;\n",
              "      fill: #1967D2;\n",
              "      height: 32px;\n",
              "      padding: 0 0 0 0;\n",
              "      width: 32px;\n",
              "    }\n",
              "\n",
              "    .colab-df-convert:hover {\n",
              "      background-color: #E2EBFA;\n",
              "      box-shadow: 0px 1px 2px rgba(60, 64, 67, 0.3), 0px 1px 3px 1px rgba(60, 64, 67, 0.15);\n",
              "      fill: #174EA6;\n",
              "    }\n",
              "\n",
              "    .colab-df-buttons div {\n",
              "      margin-bottom: 4px;\n",
              "    }\n",
              "\n",
              "    [theme=dark] .colab-df-convert {\n",
              "      background-color: #3B4455;\n",
              "      fill: #D2E3FC;\n",
              "    }\n",
              "\n",
              "    [theme=dark] .colab-df-convert:hover {\n",
              "      background-color: #434B5C;\n",
              "      box-shadow: 0px 1px 3px 1px rgba(0, 0, 0, 0.15);\n",
              "      filter: drop-shadow(0px 1px 2px rgba(0, 0, 0, 0.3));\n",
              "      fill: #FFFFFF;\n",
              "    }\n",
              "  </style>\n",
              "\n",
              "    <script>\n",
              "      const buttonEl =\n",
              "        document.querySelector('#df-5f6b5f12-09ea-4834-8222-554a0942f28d button.colab-df-convert');\n",
              "      buttonEl.style.display =\n",
              "        google.colab.kernel.accessAllowed ? 'block' : 'none';\n",
              "\n",
              "      async function convertToInteractive(key) {\n",
              "        const element = document.querySelector('#df-5f6b5f12-09ea-4834-8222-554a0942f28d');\n",
              "        const dataTable =\n",
              "          await google.colab.kernel.invokeFunction('convertToInteractive',\n",
              "                                                    [key], {});\n",
              "        if (!dataTable) return;\n",
              "\n",
              "        const docLinkHtml = 'Like what you see? Visit the ' +\n",
              "          '<a target=\"_blank\" href=https://colab.research.google.com/notebooks/data_table.ipynb>data table notebook</a>'\n",
              "          + ' to learn more about interactive tables.';\n",
              "        element.innerHTML = '';\n",
              "        dataTable['output_type'] = 'display_data';\n",
              "        await google.colab.output.renderOutput(dataTable, element);\n",
              "        const docLink = document.createElement('div');\n",
              "        docLink.innerHTML = docLinkHtml;\n",
              "        element.appendChild(docLink);\n",
              "      }\n",
              "    </script>\n",
              "  </div>\n",
              "\n",
              "\n",
              "<div id=\"df-9e76b1ab-3f66-4ea8-8edb-0c06df14ba8c\">\n",
              "  <button class=\"colab-df-quickchart\" onclick=\"quickchart('df-9e76b1ab-3f66-4ea8-8edb-0c06df14ba8c')\"\n",
              "            title=\"Suggest charts\"\n",
              "            style=\"display:none;\">\n",
              "\n",
              "<svg xmlns=\"http://www.w3.org/2000/svg\" height=\"24px\"viewBox=\"0 0 24 24\"\n",
              "     width=\"24px\">\n",
              "    <g>\n",
              "        <path d=\"M19 3H5c-1.1 0-2 .9-2 2v14c0 1.1.9 2 2 2h14c1.1 0 2-.9 2-2V5c0-1.1-.9-2-2-2zM9 17H7v-7h2v7zm4 0h-2V7h2v10zm4 0h-2v-4h2v4z\"/>\n",
              "    </g>\n",
              "</svg>\n",
              "  </button>\n",
              "\n",
              "<style>\n",
              "  .colab-df-quickchart {\n",
              "      --bg-color: #E8F0FE;\n",
              "      --fill-color: #1967D2;\n",
              "      --hover-bg-color: #E2EBFA;\n",
              "      --hover-fill-color: #174EA6;\n",
              "      --disabled-fill-color: #AAA;\n",
              "      --disabled-bg-color: #DDD;\n",
              "  }\n",
              "\n",
              "  [theme=dark] .colab-df-quickchart {\n",
              "      --bg-color: #3B4455;\n",
              "      --fill-color: #D2E3FC;\n",
              "      --hover-bg-color: #434B5C;\n",
              "      --hover-fill-color: #FFFFFF;\n",
              "      --disabled-bg-color: #3B4455;\n",
              "      --disabled-fill-color: #666;\n",
              "  }\n",
              "\n",
              "  .colab-df-quickchart {\n",
              "    background-color: var(--bg-color);\n",
              "    border: none;\n",
              "    border-radius: 50%;\n",
              "    cursor: pointer;\n",
              "    display: none;\n",
              "    fill: var(--fill-color);\n",
              "    height: 32px;\n",
              "    padding: 0;\n",
              "    width: 32px;\n",
              "  }\n",
              "\n",
              "  .colab-df-quickchart:hover {\n",
              "    background-color: var(--hover-bg-color);\n",
              "    box-shadow: 0 1px 2px rgba(60, 64, 67, 0.3), 0 1px 3px 1px rgba(60, 64, 67, 0.15);\n",
              "    fill: var(--button-hover-fill-color);\n",
              "  }\n",
              "\n",
              "  .colab-df-quickchart-complete:disabled,\n",
              "  .colab-df-quickchart-complete:disabled:hover {\n",
              "    background-color: var(--disabled-bg-color);\n",
              "    fill: var(--disabled-fill-color);\n",
              "    box-shadow: none;\n",
              "  }\n",
              "\n",
              "  .colab-df-spinner {\n",
              "    border: 2px solid var(--fill-color);\n",
              "    border-color: transparent;\n",
              "    border-bottom-color: var(--fill-color);\n",
              "    animation:\n",
              "      spin 1s steps(1) infinite;\n",
              "  }\n",
              "\n",
              "  @keyframes spin {\n",
              "    0% {\n",
              "      border-color: transparent;\n",
              "      border-bottom-color: var(--fill-color);\n",
              "      border-left-color: var(--fill-color);\n",
              "    }\n",
              "    20% {\n",
              "      border-color: transparent;\n",
              "      border-left-color: var(--fill-color);\n",
              "      border-top-color: var(--fill-color);\n",
              "    }\n",
              "    30% {\n",
              "      border-color: transparent;\n",
              "      border-left-color: var(--fill-color);\n",
              "      border-top-color: var(--fill-color);\n",
              "      border-right-color: var(--fill-color);\n",
              "    }\n",
              "    40% {\n",
              "      border-color: transparent;\n",
              "      border-right-color: var(--fill-color);\n",
              "      border-top-color: var(--fill-color);\n",
              "    }\n",
              "    60% {\n",
              "      border-color: transparent;\n",
              "      border-right-color: var(--fill-color);\n",
              "    }\n",
              "    80% {\n",
              "      border-color: transparent;\n",
              "      border-right-color: var(--fill-color);\n",
              "      border-bottom-color: var(--fill-color);\n",
              "    }\n",
              "    90% {\n",
              "      border-color: transparent;\n",
              "      border-bottom-color: var(--fill-color);\n",
              "    }\n",
              "  }\n",
              "</style>\n",
              "\n",
              "  <script>\n",
              "    async function quickchart(key) {\n",
              "      const quickchartButtonEl =\n",
              "        document.querySelector('#' + key + ' button');\n",
              "      quickchartButtonEl.disabled = true;  // To prevent multiple clicks.\n",
              "      quickchartButtonEl.classList.add('colab-df-spinner');\n",
              "      try {\n",
              "        const charts = await google.colab.kernel.invokeFunction(\n",
              "            'suggestCharts', [key], {});\n",
              "      } catch (error) {\n",
              "        console.error('Error during call to suggestCharts:', error);\n",
              "      }\n",
              "      quickchartButtonEl.classList.remove('colab-df-spinner');\n",
              "      quickchartButtonEl.classList.add('colab-df-quickchart-complete');\n",
              "    }\n",
              "    (() => {\n",
              "      let quickchartButtonEl =\n",
              "        document.querySelector('#df-9e76b1ab-3f66-4ea8-8edb-0c06df14ba8c button');\n",
              "      quickchartButtonEl.style.display =\n",
              "        google.colab.kernel.accessAllowed ? 'block' : 'none';\n",
              "    })();\n",
              "  </script>\n",
              "</div>\n",
              "\n",
              "    </div>\n",
              "  </div>\n"
            ],
            "application/vnd.google.colaboratory.intrinsic+json": {
              "type": "dataframe",
              "variable_name": "df_auxiliar",
              "summary": "{\n  \"name\": \"df_auxiliar\",\n  \"rows\": 14055,\n  \"fields\": [\n    {\n      \"column\": \"T\\u00edtulo\",\n      \"properties\": {\n        \"dtype\": \"string\",\n        \"num_unique_values\": 14034,\n        \"samples\": [\n          \"Beatdown!\",\n          \"Naruto: Path of the Ninja\",\n          \"Portal Knights\"\n        ],\n        \"semantic_type\": \"\",\n        \"description\": \"\"\n      }\n    },\n    {\n      \"column\": \"Ano de Lan\\u00e7amento\",\n      \"properties\": {\n        \"dtype\": \"date\",\n        \"min\": \"1995-04-30 00:00:00\",\n        \"max\": \"2024-03-05 00:00:00\",\n        \"num_unique_values\": 4752,\n        \"samples\": [\n          \"2010-05-10 00:00:00\",\n          \"2005-09-18 00:00:00\",\n          \"2021-03-11 00:00:00\"\n        ],\n        \"semantic_type\": \"\",\n        \"description\": \"\"\n      }\n    },\n    {\n      \"column\": \"Desenvolvedor\",\n      \"properties\": {\n        \"dtype\": \"category\",\n        \"num_unique_values\": 4449,\n        \"samples\": [\n          \"Jaleco Entertainment\",\n          \"DESTINYbit\",\n          \"neoqb\"\n        ],\n        \"semantic_type\": \"\",\n        \"description\": \"\"\n      }\n    },\n    {\n      \"column\": \"Editora\",\n      \"properties\": {\n        \"dtype\": \"category\",\n        \"num_unique_values\": 2307,\n        \"samples\": [\n          \"indienova\",\n          \"Grindstone\",\n          \"Yanim Studio\"\n        ],\n        \"semantic_type\": \"\",\n        \"description\": \"\"\n      }\n    },\n    {\n      \"column\": \"G\\u00eaneros\",\n      \"properties\": {\n        \"dtype\": \"category\",\n        \"num_unique_values\": 119,\n        \"samples\": [\n          \"Real-Time Tactics\",\n          \"Defense\",\n          \"Rhythm\"\n        ],\n        \"semantic_type\": \"\",\n        \"description\": \"\"\n      }\n    },\n    {\n      \"column\": \"G\\u00eaneros Separados\",\n      \"properties\": {\n        \"dtype\": \"category\",\n        \"num_unique_values\": 119,\n        \"samples\": [\n          \"['Real-Time', 'Tactics']\",\n          \"['Defense']\",\n          \"['Rhythm']\"\n        ],\n        \"semantic_type\": \"\",\n        \"description\": \"\"\n      }\n    },\n    {\n      \"column\": \"Avalia\\u00e7\\u00e3o do Produto\",\n      \"properties\": {\n        \"dtype\": \"category\",\n        \"num_unique_values\": 6,\n        \"samples\": [\n          \"Rated E For Everyone\",\n          \"Rated T For Teen\",\n          \"Rated AO For Adults Only\"\n        ],\n        \"semantic_type\": \"\",\n        \"description\": \"\"\n      }\n    },\n    {\n      \"column\": \"Pontua\\u00e7\\u00e3o do Usu\\u00e1rio\",\n      \"properties\": {\n        \"dtype\": \"number\",\n        \"std\": 1.2760588127652206,\n        \"min\": 0.3,\n        \"max\": 10.0,\n        \"num_unique_values\": 96,\n        \"samples\": [\n          0.6,\n          2.5,\n          2.8\n        ],\n        \"semantic_type\": \"\",\n        \"description\": \"\"\n      }\n    },\n    {\n      \"column\": \"N\\u00famero de Avalia\\u00e7\\u00f5es do Usu\\u00e1rio\",\n      \"properties\": {\n        \"dtype\": \"number\",\n        \"std\": 1658.9605474292846,\n        \"min\": 5.0,\n        \"max\": 163419.0,\n        \"num_unique_values\": 1237,\n        \"samples\": [\n          204.0,\n          597.0,\n          12029.0\n        ],\n        \"semantic_type\": \"\",\n        \"description\": \"\"\n      }\n    },\n    {\n      \"column\": \"Informa\\u00e7\\u00f5es das Plataformas\",\n      \"properties\": {\n        \"dtype\": \"string\",\n        \"num_unique_values\": 11956,\n        \"samples\": [\n          \"[{'Platform': 'Xbox Series X', 'Platform Metascore': '80', 'Platform Metascore Count': 'Based on 5 Critic Reviews'}, {'Platform': 'PlayStation 5', 'Platform Metascore': '74', 'Platform Metascore Count': 'Based on 4 Critic Reviews'}, {'Platform': 'PC', 'Platform Metascore': '67', 'Platform Metascore Count': 'Based on 26 Critic Reviews'}]\",\n          \"[{'Platform': 'DS', 'Platform Metascore': '83', 'Platform Metascore Count': 'Based on 58 Critic Reviews'}]\",\n          \"[{'Platform': 'PlayStation 3', 'Platform Metascore': '70', 'Platform Metascore Count': 'Based on 47 Critic Reviews'}, {'Platform': 'Xbox 360', 'Platform Metascore': '71', 'Platform Metascore Count': 'Based on 72 Critic Reviews'}]\"\n        ],\n        \"semantic_type\": \"\",\n        \"description\": \"\"\n      }\n    },\n    {\n      \"column\": \"Pontua\\u00e7a\\u00f5 geral\",\n      \"properties\": {\n        \"dtype\": \"number\",\n        \"std\": 10662.301601618201,\n        \"min\": 1.7999999999999998,\n        \"max\": 947830.2,\n        \"num_unique_values\": 4796,\n        \"samples\": [\n          1948.8000000000002,\n          13120.800000000001,\n          1131.9\n        ],\n        \"semantic_type\": \"\",\n        \"description\": \"\"\n      }\n    },\n    {\n      \"column\": \"Somente o ano de lancamento \",\n      \"properties\": {\n        \"dtype\": \"category\",\n        \"num_unique_values\": 31,\n        \"samples\": [\n          2024.0,\n          2018.0,\n          2019.0\n        ],\n        \"semantic_type\": \"\",\n        \"description\": \"\"\n      }\n    }\n  ]\n}"
            }
          },
          "metadata": {},
          "execution_count": 103
        }
      ]
    },
    {
      "cell_type": "code",
      "source": [
        "# Total dos Valores nulos em cada coluna;\n",
        "print(df_auxiliar.isnull().sum())"
      ],
      "metadata": {
        "colab": {
          "base_uri": "https://localhost:8080/"
        },
        "id": "WUqrXomUq2Fo",
        "outputId": "769e5c6f-aa6e-40c7-d5b2-46a55088002f"
      },
      "execution_count": 10,
      "outputs": [
        {
          "output_type": "stream",
          "name": "stdout",
          "text": [
            "Título                               21\n",
            "Ano de Lançamento                    64\n",
            "Desenvolvedor                       138\n",
            "Editora                             138\n",
            "Gêneros                              21\n",
            "Gêneros Separados                    21\n",
            "Avaliação do Produto               3050\n",
            "Pontuação do Usuário                  0\n",
            "Número de Avaliações do Usuário       0\n",
            "Informações das Plataformas           0\n",
            "dtype: int64\n"
          ]
        }
      ]
    },
    {
      "cell_type": "code",
      "source": [
        "# Identificando e retirando valores duplicados\n",
        "# df_auxiliar.duplicated().sum()\n",
        "# df_auxiliar.drop_duplicates(inplace=True)\n",
        "print(f'Total de dados dupicados {df_auxiliar.duplicated().sum()}')"
      ],
      "metadata": {
        "colab": {
          "base_uri": "https://localhost:8080/"
        },
        "id": "NblXaO4ysDlK",
        "outputId": "34332cfe-96a0-40b3-9e4b-97085ca5563e"
      },
      "execution_count": 11,
      "outputs": [
        {
          "output_type": "stream",
          "name": "stdout",
          "text": [
            "Total de dados dupicados 20\n"
          ]
        }
      ]
    },
    {
      "cell_type": "markdown",
      "source": [
        "### Definindo a Data como date time."
      ],
      "metadata": {
        "id": "mA2ceCzmAdod"
      }
    },
    {
      "cell_type": "code",
      "source": [
        "#Definindo o ano de lancamento como date time ;\n",
        "df_auxiliar['Ano de Lançamento'] = pd.to_datetime(df_auxiliar['Ano de Lançamento'], format='%m/%d/%Y')\n",
        "df_auxiliar.info()"
      ],
      "metadata": {
        "colab": {
          "base_uri": "https://localhost:8080/"
        },
        "id": "AZGwj5IydgVf",
        "outputId": "f972d910-1b9e-4f0f-c9ab-556555ec641a"
      },
      "execution_count": 12,
      "outputs": [
        {
          "output_type": "stream",
          "name": "stdout",
          "text": [
            "<class 'pandas.core.frame.DataFrame'>\n",
            "RangeIndex: 14055 entries, 0 to 14054\n",
            "Data columns (total 10 columns):\n",
            " #   Column                           Non-Null Count  Dtype         \n",
            "---  ------                           --------------  -----         \n",
            " 0   Título                           14034 non-null  object        \n",
            " 1   Ano de Lançamento                13991 non-null  datetime64[ns]\n",
            " 2   Desenvolvedor                    13917 non-null  object        \n",
            " 3   Editora                          13917 non-null  object        \n",
            " 4   Gêneros                          14034 non-null  object        \n",
            " 5   Gêneros Separados                14034 non-null  object        \n",
            " 6   Avaliação do Produto             11005 non-null  object        \n",
            " 7   Pontuação do Usuário             14055 non-null  float64       \n",
            " 8   Número de Avaliações do Usuário  14055 non-null  float64       \n",
            " 9   Informações das Plataformas      14055 non-null  object        \n",
            "dtypes: datetime64[ns](1), float64(2), object(7)\n",
            "memory usage: 1.1+ MB\n"
          ]
        }
      ]
    },
    {
      "cell_type": "markdown",
      "source": [
        "### 🎯 Em certos casos, jogos populares podem ter uma pontuação de usuário baixa devido ao grande número de avaliações. Para mitigar isso, podemos calcular a classificação total, que é o produto da pontuação média e da contagem de classificações. Isso fornece uma medida mais abrangente do envolvimento do usuário com o jogo.\n",
        "* Com isso criamos uma nova coluna para ter os dados de Pontuação Geral do Game.\n",
        "* E ordenamos a tabela pontuação Geral por ordem decrescente."
      ],
      "metadata": {
        "id": "5sGjw0TnrtLI"
      }
    },
    {
      "cell_type": "code",
      "source": [
        "#Criando uma nova coluna, com a pontuação resultante entre as 2 metricas.\n",
        "df_auxiliar['Pontuaçaõ geral']=df_auxiliar['Pontuação do Usuário']*df_auxiliar['Número de Avaliações do Usuário']\n",
        "df_auxiliar.head()"
      ],
      "metadata": {
        "colab": {
          "base_uri": "https://localhost:8080/",
          "height": 345
        },
        "id": "fGtNf--Dr8zm",
        "outputId": "cdae6dc8-ef9c-44cc-fb52-38313a9ee06f"
      },
      "execution_count": 13,
      "outputs": [
        {
          "output_type": "execute_result",
          "data": {
            "text/plain": [
              "                          Título Ano de Lançamento  \\\n",
              "0                Ziggurat (2012)        2012-02-17   \n",
              "1                      4X4 EVO 2        2001-11-15   \n",
              "2                MotoGP 2 (2001)        2002-01-22   \n",
              "3                       Gothic 3        2006-11-14   \n",
              "4  Siege Survival: Gloria Victis        2021-05-18   \n",
              "\n",
              "                 Desenvolvedor          Editora          Gêneros  \\\n",
              "0  Action Button Entertainment     Freshuu Inc.           Action   \n",
              "1             Terminal Reality        Gathering  Auto Racing Sim   \n",
              "2                        Namco            Namco  Auto Racing Sim   \n",
              "3                Piranha Bytes            Aspyr      Western RPG   \n",
              "4               FishTankStudio  Black Eye Games              RPG   \n",
              "\n",
              "           Gêneros Separados  Avaliação do Produto  Pontuação do Usuário  \\\n",
              "0                 ['Action']                   NaN                   6.9   \n",
              "1  ['Auto', 'Racing', 'Sim']  Rated E For Everyone                   7.2   \n",
              "2  ['Auto', 'Racing', 'Sim']  Rated E For Everyone                   5.8   \n",
              "3         ['Western', 'RPG']      Rated T For Teen                   7.5   \n",
              "4                    ['RPG']                   NaN                   6.5   \n",
              "\n",
              "   Número de Avaliações do Usuário  \\\n",
              "0                             14.0   \n",
              "1                             34.0   \n",
              "2                             34.0   \n",
              "3                            832.0   \n",
              "4                             10.0   \n",
              "\n",
              "                         Informações das Plataformas  Pontuaçaõ geral  \n",
              "0  [{'Platform': 'iOS (iPhone/iPad)', 'Platform M...             96.6  \n",
              "1  [{'Platform': 'Xbox', 'Platform Metascore': '5...            244.8  \n",
              "2  [{'Platform': 'PlayStation 2', 'Platform Metas...            197.2  \n",
              "3  [{'Platform': 'PC', 'Platform Metascore': '63'...           6240.0  \n",
              "4  [{'Platform': 'PC', 'Platform Metascore': '69'...             65.0  "
            ],
            "text/html": [
              "\n",
              "  <div id=\"df-874cba0b-9231-43c4-a96c-12eba860b02d\" class=\"colab-df-container\">\n",
              "    <div>\n",
              "<style scoped>\n",
              "    .dataframe tbody tr th:only-of-type {\n",
              "        vertical-align: middle;\n",
              "    }\n",
              "\n",
              "    .dataframe tbody tr th {\n",
              "        vertical-align: top;\n",
              "    }\n",
              "\n",
              "    .dataframe thead th {\n",
              "        text-align: right;\n",
              "    }\n",
              "</style>\n",
              "<table border=\"1\" class=\"dataframe\">\n",
              "  <thead>\n",
              "    <tr style=\"text-align: right;\">\n",
              "      <th></th>\n",
              "      <th>Título</th>\n",
              "      <th>Ano de Lançamento</th>\n",
              "      <th>Desenvolvedor</th>\n",
              "      <th>Editora</th>\n",
              "      <th>Gêneros</th>\n",
              "      <th>Gêneros Separados</th>\n",
              "      <th>Avaliação do Produto</th>\n",
              "      <th>Pontuação do Usuário</th>\n",
              "      <th>Número de Avaliações do Usuário</th>\n",
              "      <th>Informações das Plataformas</th>\n",
              "      <th>Pontuaçaõ geral</th>\n",
              "    </tr>\n",
              "  </thead>\n",
              "  <tbody>\n",
              "    <tr>\n",
              "      <th>0</th>\n",
              "      <td>Ziggurat (2012)</td>\n",
              "      <td>2012-02-17</td>\n",
              "      <td>Action Button Entertainment</td>\n",
              "      <td>Freshuu Inc.</td>\n",
              "      <td>Action</td>\n",
              "      <td>['Action']</td>\n",
              "      <td>NaN</td>\n",
              "      <td>6.9</td>\n",
              "      <td>14.0</td>\n",
              "      <td>[{'Platform': 'iOS (iPhone/iPad)', 'Platform M...</td>\n",
              "      <td>96.6</td>\n",
              "    </tr>\n",
              "    <tr>\n",
              "      <th>1</th>\n",
              "      <td>4X4 EVO 2</td>\n",
              "      <td>2001-11-15</td>\n",
              "      <td>Terminal Reality</td>\n",
              "      <td>Gathering</td>\n",
              "      <td>Auto Racing Sim</td>\n",
              "      <td>['Auto', 'Racing', 'Sim']</td>\n",
              "      <td>Rated E For Everyone</td>\n",
              "      <td>7.2</td>\n",
              "      <td>34.0</td>\n",
              "      <td>[{'Platform': 'Xbox', 'Platform Metascore': '5...</td>\n",
              "      <td>244.8</td>\n",
              "    </tr>\n",
              "    <tr>\n",
              "      <th>2</th>\n",
              "      <td>MotoGP 2 (2001)</td>\n",
              "      <td>2002-01-22</td>\n",
              "      <td>Namco</td>\n",
              "      <td>Namco</td>\n",
              "      <td>Auto Racing Sim</td>\n",
              "      <td>['Auto', 'Racing', 'Sim']</td>\n",
              "      <td>Rated E For Everyone</td>\n",
              "      <td>5.8</td>\n",
              "      <td>34.0</td>\n",
              "      <td>[{'Platform': 'PlayStation 2', 'Platform Metas...</td>\n",
              "      <td>197.2</td>\n",
              "    </tr>\n",
              "    <tr>\n",
              "      <th>3</th>\n",
              "      <td>Gothic 3</td>\n",
              "      <td>2006-11-14</td>\n",
              "      <td>Piranha Bytes</td>\n",
              "      <td>Aspyr</td>\n",
              "      <td>Western RPG</td>\n",
              "      <td>['Western', 'RPG']</td>\n",
              "      <td>Rated T For Teen</td>\n",
              "      <td>7.5</td>\n",
              "      <td>832.0</td>\n",
              "      <td>[{'Platform': 'PC', 'Platform Metascore': '63'...</td>\n",
              "      <td>6240.0</td>\n",
              "    </tr>\n",
              "    <tr>\n",
              "      <th>4</th>\n",
              "      <td>Siege Survival: Gloria Victis</td>\n",
              "      <td>2021-05-18</td>\n",
              "      <td>FishTankStudio</td>\n",
              "      <td>Black Eye Games</td>\n",
              "      <td>RPG</td>\n",
              "      <td>['RPG']</td>\n",
              "      <td>NaN</td>\n",
              "      <td>6.5</td>\n",
              "      <td>10.0</td>\n",
              "      <td>[{'Platform': 'PC', 'Platform Metascore': '69'...</td>\n",
              "      <td>65.0</td>\n",
              "    </tr>\n",
              "  </tbody>\n",
              "</table>\n",
              "</div>\n",
              "    <div class=\"colab-df-buttons\">\n",
              "\n",
              "  <div class=\"colab-df-container\">\n",
              "    <button class=\"colab-df-convert\" onclick=\"convertToInteractive('df-874cba0b-9231-43c4-a96c-12eba860b02d')\"\n",
              "            title=\"Convert this dataframe to an interactive table.\"\n",
              "            style=\"display:none;\">\n",
              "\n",
              "  <svg xmlns=\"http://www.w3.org/2000/svg\" height=\"24px\" viewBox=\"0 -960 960 960\">\n",
              "    <path d=\"M120-120v-720h720v720H120Zm60-500h600v-160H180v160Zm220 220h160v-160H400v160Zm0 220h160v-160H400v160ZM180-400h160v-160H180v160Zm440 0h160v-160H620v160ZM180-180h160v-160H180v160Zm440 0h160v-160H620v160Z\"/>\n",
              "  </svg>\n",
              "    </button>\n",
              "\n",
              "  <style>\n",
              "    .colab-df-container {\n",
              "      display:flex;\n",
              "      gap: 12px;\n",
              "    }\n",
              "\n",
              "    .colab-df-convert {\n",
              "      background-color: #E8F0FE;\n",
              "      border: none;\n",
              "      border-radius: 50%;\n",
              "      cursor: pointer;\n",
              "      display: none;\n",
              "      fill: #1967D2;\n",
              "      height: 32px;\n",
              "      padding: 0 0 0 0;\n",
              "      width: 32px;\n",
              "    }\n",
              "\n",
              "    .colab-df-convert:hover {\n",
              "      background-color: #E2EBFA;\n",
              "      box-shadow: 0px 1px 2px rgba(60, 64, 67, 0.3), 0px 1px 3px 1px rgba(60, 64, 67, 0.15);\n",
              "      fill: #174EA6;\n",
              "    }\n",
              "\n",
              "    .colab-df-buttons div {\n",
              "      margin-bottom: 4px;\n",
              "    }\n",
              "\n",
              "    [theme=dark] .colab-df-convert {\n",
              "      background-color: #3B4455;\n",
              "      fill: #D2E3FC;\n",
              "    }\n",
              "\n",
              "    [theme=dark] .colab-df-convert:hover {\n",
              "      background-color: #434B5C;\n",
              "      box-shadow: 0px 1px 3px 1px rgba(0, 0, 0, 0.15);\n",
              "      filter: drop-shadow(0px 1px 2px rgba(0, 0, 0, 0.3));\n",
              "      fill: #FFFFFF;\n",
              "    }\n",
              "  </style>\n",
              "\n",
              "    <script>\n",
              "      const buttonEl =\n",
              "        document.querySelector('#df-874cba0b-9231-43c4-a96c-12eba860b02d button.colab-df-convert');\n",
              "      buttonEl.style.display =\n",
              "        google.colab.kernel.accessAllowed ? 'block' : 'none';\n",
              "\n",
              "      async function convertToInteractive(key) {\n",
              "        const element = document.querySelector('#df-874cba0b-9231-43c4-a96c-12eba860b02d');\n",
              "        const dataTable =\n",
              "          await google.colab.kernel.invokeFunction('convertToInteractive',\n",
              "                                                    [key], {});\n",
              "        if (!dataTable) return;\n",
              "\n",
              "        const docLinkHtml = 'Like what you see? Visit the ' +\n",
              "          '<a target=\"_blank\" href=https://colab.research.google.com/notebooks/data_table.ipynb>data table notebook</a>'\n",
              "          + ' to learn more about interactive tables.';\n",
              "        element.innerHTML = '';\n",
              "        dataTable['output_type'] = 'display_data';\n",
              "        await google.colab.output.renderOutput(dataTable, element);\n",
              "        const docLink = document.createElement('div');\n",
              "        docLink.innerHTML = docLinkHtml;\n",
              "        element.appendChild(docLink);\n",
              "      }\n",
              "    </script>\n",
              "  </div>\n",
              "\n",
              "\n",
              "<div id=\"df-9b1aefb8-160c-4c2f-89ef-f8b95cf89d96\">\n",
              "  <button class=\"colab-df-quickchart\" onclick=\"quickchart('df-9b1aefb8-160c-4c2f-89ef-f8b95cf89d96')\"\n",
              "            title=\"Suggest charts\"\n",
              "            style=\"display:none;\">\n",
              "\n",
              "<svg xmlns=\"http://www.w3.org/2000/svg\" height=\"24px\"viewBox=\"0 0 24 24\"\n",
              "     width=\"24px\">\n",
              "    <g>\n",
              "        <path d=\"M19 3H5c-1.1 0-2 .9-2 2v14c0 1.1.9 2 2 2h14c1.1 0 2-.9 2-2V5c0-1.1-.9-2-2-2zM9 17H7v-7h2v7zm4 0h-2V7h2v10zm4 0h-2v-4h2v4z\"/>\n",
              "    </g>\n",
              "</svg>\n",
              "  </button>\n",
              "\n",
              "<style>\n",
              "  .colab-df-quickchart {\n",
              "      --bg-color: #E8F0FE;\n",
              "      --fill-color: #1967D2;\n",
              "      --hover-bg-color: #E2EBFA;\n",
              "      --hover-fill-color: #174EA6;\n",
              "      --disabled-fill-color: #AAA;\n",
              "      --disabled-bg-color: #DDD;\n",
              "  }\n",
              "\n",
              "  [theme=dark] .colab-df-quickchart {\n",
              "      --bg-color: #3B4455;\n",
              "      --fill-color: #D2E3FC;\n",
              "      --hover-bg-color: #434B5C;\n",
              "      --hover-fill-color: #FFFFFF;\n",
              "      --disabled-bg-color: #3B4455;\n",
              "      --disabled-fill-color: #666;\n",
              "  }\n",
              "\n",
              "  .colab-df-quickchart {\n",
              "    background-color: var(--bg-color);\n",
              "    border: none;\n",
              "    border-radius: 50%;\n",
              "    cursor: pointer;\n",
              "    display: none;\n",
              "    fill: var(--fill-color);\n",
              "    height: 32px;\n",
              "    padding: 0;\n",
              "    width: 32px;\n",
              "  }\n",
              "\n",
              "  .colab-df-quickchart:hover {\n",
              "    background-color: var(--hover-bg-color);\n",
              "    box-shadow: 0 1px 2px rgba(60, 64, 67, 0.3), 0 1px 3px 1px rgba(60, 64, 67, 0.15);\n",
              "    fill: var(--button-hover-fill-color);\n",
              "  }\n",
              "\n",
              "  .colab-df-quickchart-complete:disabled,\n",
              "  .colab-df-quickchart-complete:disabled:hover {\n",
              "    background-color: var(--disabled-bg-color);\n",
              "    fill: var(--disabled-fill-color);\n",
              "    box-shadow: none;\n",
              "  }\n",
              "\n",
              "  .colab-df-spinner {\n",
              "    border: 2px solid var(--fill-color);\n",
              "    border-color: transparent;\n",
              "    border-bottom-color: var(--fill-color);\n",
              "    animation:\n",
              "      spin 1s steps(1) infinite;\n",
              "  }\n",
              "\n",
              "  @keyframes spin {\n",
              "    0% {\n",
              "      border-color: transparent;\n",
              "      border-bottom-color: var(--fill-color);\n",
              "      border-left-color: var(--fill-color);\n",
              "    }\n",
              "    20% {\n",
              "      border-color: transparent;\n",
              "      border-left-color: var(--fill-color);\n",
              "      border-top-color: var(--fill-color);\n",
              "    }\n",
              "    30% {\n",
              "      border-color: transparent;\n",
              "      border-left-color: var(--fill-color);\n",
              "      border-top-color: var(--fill-color);\n",
              "      border-right-color: var(--fill-color);\n",
              "    }\n",
              "    40% {\n",
              "      border-color: transparent;\n",
              "      border-right-color: var(--fill-color);\n",
              "      border-top-color: var(--fill-color);\n",
              "    }\n",
              "    60% {\n",
              "      border-color: transparent;\n",
              "      border-right-color: var(--fill-color);\n",
              "    }\n",
              "    80% {\n",
              "      border-color: transparent;\n",
              "      border-right-color: var(--fill-color);\n",
              "      border-bottom-color: var(--fill-color);\n",
              "    }\n",
              "    90% {\n",
              "      border-color: transparent;\n",
              "      border-bottom-color: var(--fill-color);\n",
              "    }\n",
              "  }\n",
              "</style>\n",
              "\n",
              "  <script>\n",
              "    async function quickchart(key) {\n",
              "      const quickchartButtonEl =\n",
              "        document.querySelector('#' + key + ' button');\n",
              "      quickchartButtonEl.disabled = true;  // To prevent multiple clicks.\n",
              "      quickchartButtonEl.classList.add('colab-df-spinner');\n",
              "      try {\n",
              "        const charts = await google.colab.kernel.invokeFunction(\n",
              "            'suggestCharts', [key], {});\n",
              "      } catch (error) {\n",
              "        console.error('Error during call to suggestCharts:', error);\n",
              "      }\n",
              "      quickchartButtonEl.classList.remove('colab-df-spinner');\n",
              "      quickchartButtonEl.classList.add('colab-df-quickchart-complete');\n",
              "    }\n",
              "    (() => {\n",
              "      let quickchartButtonEl =\n",
              "        document.querySelector('#df-9b1aefb8-160c-4c2f-89ef-f8b95cf89d96 button');\n",
              "      quickchartButtonEl.style.display =\n",
              "        google.colab.kernel.accessAllowed ? 'block' : 'none';\n",
              "    })();\n",
              "  </script>\n",
              "</div>\n",
              "\n",
              "    </div>\n",
              "  </div>\n"
            ],
            "application/vnd.google.colaboratory.intrinsic+json": {
              "type": "dataframe",
              "variable_name": "df_auxiliar",
              "summary": "{\n  \"name\": \"df_auxiliar\",\n  \"rows\": 14055,\n  \"fields\": [\n    {\n      \"column\": \"T\\u00edtulo\",\n      \"properties\": {\n        \"dtype\": \"string\",\n        \"num_unique_values\": 14034,\n        \"samples\": [\n          \"Beatdown!\",\n          \"Naruto: Path of the Ninja\",\n          \"Portal Knights\"\n        ],\n        \"semantic_type\": \"\",\n        \"description\": \"\"\n      }\n    },\n    {\n      \"column\": \"Ano de Lan\\u00e7amento\",\n      \"properties\": {\n        \"dtype\": \"date\",\n        \"min\": \"1995-04-30 00:00:00\",\n        \"max\": \"2024-03-05 00:00:00\",\n        \"num_unique_values\": 4752,\n        \"samples\": [\n          \"2010-05-10 00:00:00\",\n          \"2005-09-18 00:00:00\",\n          \"2021-03-11 00:00:00\"\n        ],\n        \"semantic_type\": \"\",\n        \"description\": \"\"\n      }\n    },\n    {\n      \"column\": \"Desenvolvedor\",\n      \"properties\": {\n        \"dtype\": \"category\",\n        \"num_unique_values\": 4449,\n        \"samples\": [\n          \"Jaleco Entertainment\",\n          \"DESTINYbit\",\n          \"neoqb\"\n        ],\n        \"semantic_type\": \"\",\n        \"description\": \"\"\n      }\n    },\n    {\n      \"column\": \"Editora\",\n      \"properties\": {\n        \"dtype\": \"category\",\n        \"num_unique_values\": 2307,\n        \"samples\": [\n          \"indienova\",\n          \"Grindstone\",\n          \"Yanim Studio\"\n        ],\n        \"semantic_type\": \"\",\n        \"description\": \"\"\n      }\n    },\n    {\n      \"column\": \"G\\u00eaneros\",\n      \"properties\": {\n        \"dtype\": \"category\",\n        \"num_unique_values\": 119,\n        \"samples\": [\n          \"Real-Time Tactics\",\n          \"Defense\",\n          \"Rhythm\"\n        ],\n        \"semantic_type\": \"\",\n        \"description\": \"\"\n      }\n    },\n    {\n      \"column\": \"G\\u00eaneros Separados\",\n      \"properties\": {\n        \"dtype\": \"category\",\n        \"num_unique_values\": 119,\n        \"samples\": [\n          \"['Real-Time', 'Tactics']\",\n          \"['Defense']\",\n          \"['Rhythm']\"\n        ],\n        \"semantic_type\": \"\",\n        \"description\": \"\"\n      }\n    },\n    {\n      \"column\": \"Avalia\\u00e7\\u00e3o do Produto\",\n      \"properties\": {\n        \"dtype\": \"category\",\n        \"num_unique_values\": 6,\n        \"samples\": [\n          \"Rated E For Everyone\",\n          \"Rated T For Teen\",\n          \"Rated AO For Adults Only\"\n        ],\n        \"semantic_type\": \"\",\n        \"description\": \"\"\n      }\n    },\n    {\n      \"column\": \"Pontua\\u00e7\\u00e3o do Usu\\u00e1rio\",\n      \"properties\": {\n        \"dtype\": \"number\",\n        \"std\": 1.2760588127652206,\n        \"min\": 0.3,\n        \"max\": 10.0,\n        \"num_unique_values\": 96,\n        \"samples\": [\n          0.6,\n          2.5,\n          2.8\n        ],\n        \"semantic_type\": \"\",\n        \"description\": \"\"\n      }\n    },\n    {\n      \"column\": \"N\\u00famero de Avalia\\u00e7\\u00f5es do Usu\\u00e1rio\",\n      \"properties\": {\n        \"dtype\": \"number\",\n        \"std\": 1658.9605474292846,\n        \"min\": 5.0,\n        \"max\": 163419.0,\n        \"num_unique_values\": 1237,\n        \"samples\": [\n          204.0,\n          597.0,\n          12029.0\n        ],\n        \"semantic_type\": \"\",\n        \"description\": \"\"\n      }\n    },\n    {\n      \"column\": \"Informa\\u00e7\\u00f5es das Plataformas\",\n      \"properties\": {\n        \"dtype\": \"string\",\n        \"num_unique_values\": 11956,\n        \"samples\": [\n          \"[{'Platform': 'Xbox Series X', 'Platform Metascore': '80', 'Platform Metascore Count': 'Based on 5 Critic Reviews'}, {'Platform': 'PlayStation 5', 'Platform Metascore': '74', 'Platform Metascore Count': 'Based on 4 Critic Reviews'}, {'Platform': 'PC', 'Platform Metascore': '67', 'Platform Metascore Count': 'Based on 26 Critic Reviews'}]\",\n          \"[{'Platform': 'DS', 'Platform Metascore': '83', 'Platform Metascore Count': 'Based on 58 Critic Reviews'}]\",\n          \"[{'Platform': 'PlayStation 3', 'Platform Metascore': '70', 'Platform Metascore Count': 'Based on 47 Critic Reviews'}, {'Platform': 'Xbox 360', 'Platform Metascore': '71', 'Platform Metascore Count': 'Based on 72 Critic Reviews'}]\"\n        ],\n        \"semantic_type\": \"\",\n        \"description\": \"\"\n      }\n    },\n    {\n      \"column\": \"Pontua\\u00e7a\\u00f5 geral\",\n      \"properties\": {\n        \"dtype\": \"number\",\n        \"std\": 10662.301601618201,\n        \"min\": 1.7999999999999998,\n        \"max\": 947830.2,\n        \"num_unique_values\": 4796,\n        \"samples\": [\n          1948.8000000000002,\n          13120.800000000001,\n          1131.9\n        ],\n        \"semantic_type\": \"\",\n        \"description\": \"\"\n      }\n    }\n  ]\n}"
            }
          },
          "metadata": {},
          "execution_count": 13
        }
      ]
    },
    {
      "cell_type": "code",
      "source": [
        "#Percebendo o percentual dos dados  faltantes nos dados.\n",
        "print(df_auxiliar.isnull().sum() / df_auxiliar.shape[0]*100)"
      ],
      "metadata": {
        "id": "-T4vqADNliPn",
        "outputId": "0a5a6efc-f688-4284-9a59-06d29fa5a331",
        "colab": {
          "base_uri": "https://localhost:8080/"
        }
      },
      "execution_count": 54,
      "outputs": [
        {
          "output_type": "stream",
          "name": "stdout",
          "text": [
            "Título                              0.149413\n",
            "Ano de Lançamento                   0.455354\n",
            "Desenvolvedor                       0.981857\n",
            "Editora                             0.981857\n",
            "Gêneros                             0.149413\n",
            "Gêneros Separados                   0.149413\n",
            "Avaliação do Produto               21.700462\n",
            "Pontuação do Usuário                0.000000\n",
            "Número de Avaliações do Usuário     0.000000\n",
            "Informações das Plataformas         0.000000\n",
            "Pontuaçaõ geral                     0.000000\n",
            "Somente o ano de lancamento         0.000000\n",
            "dtype: float64\n"
          ]
        }
      ]
    },
    {
      "cell_type": "code",
      "source": [
        "# Criando coluna Somente do Ano de lançamento,para ficando mais fácil de criar metricas.\n",
        "df_auxiliar['Somente o ano de lancamento ']=df_auxiliar['Ano de Lançamento'].dt.year\n",
        "print(df.info())\n",
        "#Preenchendo os valores ausentes nas datas com o dia de hoje;\n",
        "df_auxiliar['Somente o ano de lancamento '].fillna(pd.to_datetime('today').date(), inplace=True)\n",
        "df_auxiliar.info()"
      ],
      "metadata": {
        "colab": {
          "base_uri": "https://localhost:8080/"
        },
        "id": "RIGTGLbDvNX7",
        "outputId": "935f5c09-0559-4e98-b446-44a85f5ad988"
      },
      "execution_count": 38,
      "outputs": [
        {
          "output_type": "stream",
          "name": "stdout",
          "text": [
            "<class 'pandas.core.frame.DataFrame'>\n",
            "RangeIndex: 14055 entries, 0 to 14054\n",
            "Data columns (total 10 columns):\n",
            " #   Column              Non-Null Count  Dtype  \n",
            "---  ------              --------------  -----  \n",
            " 0   Title               14034 non-null  object \n",
            " 1   Release Date        13991 non-null  object \n",
            " 2   Developer           13917 non-null  object \n",
            " 3   Publisher           13917 non-null  object \n",
            " 4   Genres              14034 non-null  object \n",
            " 5   Genres Splitted     14034 non-null  object \n",
            " 6   Product Rating      11005 non-null  object \n",
            " 7   User Score          11714 non-null  float64\n",
            " 8   User Ratings Count  11299 non-null  float64\n",
            " 9   Platforms Info      14055 non-null  object \n",
            "dtypes: float64(2), object(8)\n",
            "memory usage: 1.1+ MB\n",
            "None\n",
            "<class 'pandas.core.frame.DataFrame'>\n",
            "RangeIndex: 14055 entries, 0 to 14054\n",
            "Data columns (total 12 columns):\n",
            " #   Column                           Non-Null Count  Dtype         \n",
            "---  ------                           --------------  -----         \n",
            " 0   Título                           14034 non-null  object        \n",
            " 1   Ano de Lançamento                13991 non-null  datetime64[ns]\n",
            " 2   Desenvolvedor                    13917 non-null  object        \n",
            " 3   Editora                          13917 non-null  object        \n",
            " 4   Gêneros                          14034 non-null  object        \n",
            " 5   Gêneros Separados                14034 non-null  object        \n",
            " 6   Avaliação do Produto             11005 non-null  object        \n",
            " 7   Pontuação do Usuário             14055 non-null  float64       \n",
            " 8   Número de Avaliações do Usuário  14055 non-null  float64       \n",
            " 9   Informações das Plataformas      14055 non-null  object        \n",
            " 10  Pontuaçaõ geral                  14055 non-null  float64       \n",
            " 11  Somente o ano de lancamento      14055 non-null  object        \n",
            "dtypes: datetime64[ns](1), float64(3), object(8)\n",
            "memory usage: 1.3+ MB\n"
          ]
        }
      ]
    },
    {
      "cell_type": "markdown",
      "source": [
        "* **Ordenando a pontuação geral em ordem decrescente**"
      ],
      "metadata": {
        "id": "XfpOhrVKUiw1"
      }
    },
    {
      "cell_type": "code",
      "source": [
        "jogos_mais_populares =round(df_auxiliar.sort_values(by='Pontuaçaõ geral',ascending=False),2)\n",
        "jogos_mais_populares.head(10)"
      ],
      "metadata": {
        "colab": {
          "base_uri": "https://localhost:8080/",
          "height": 745
        },
        "id": "BzBIk7pyuvD-",
        "outputId": "d5dd4558-f9be-4af9-b75b-084e640afb57"
      },
      "execution_count": 129,
      "outputs": [
        {
          "output_type": "execute_result",
          "data": {
            "text/plain": [
              "                                        Título Ano de Lançamento  \\\n",
              "10941                   The Last of Us Part II        2020-06-19   \n",
              "13678                           Cyberpunk 2077        2020-12-10   \n",
              "7377                                God of War        2018-04-20   \n",
              "7591                     Red Dead Redemption 2        2018-10-26   \n",
              "13391                        Ghost of Tsushima        2020-07-17   \n",
              "6075   The Legend of Zelda: Breath of the Wild        2017-03-03   \n",
              "2930                 The Last of Us Remastered        2014-07-29   \n",
              "7612                  The Witcher 3: Wild Hunt        2015-05-19   \n",
              "3368                Uncharted 4: A Thief's End        2016-05-10   \n",
              "3212                           Death Stranding        2019-11-08   \n",
              "\n",
              "               Desenvolvedor                                 Editora  \\\n",
              "10941            Naughty Dog          Sony Interactive Entertainment   \n",
              "13678  CD Projekt Red Studio                   CD Projekt Red Studio   \n",
              "7377        SCE Santa Monica          Sony Interactive Entertainment   \n",
              "7591          Rockstar Games                          Rockstar Games   \n",
              "13391           Sucker Punch          Sony Interactive Entertainment   \n",
              "6075                Nintendo                                Nintendo   \n",
              "2930             Naughty Dog                                    SCEA   \n",
              "7612   CD Projekt Red Studio  Warner Bros. Interactive Entertainment   \n",
              "3368             Naughty Dog          Sony Interactive Entertainment   \n",
              "3212      Kojima Productions          Sony Interactive Entertainment   \n",
              "\n",
              "                       Gêneros                  Gêneros Separados  \\\n",
              "10941                 Survival                       ['Survival']   \n",
              "13678               Action RPG                  ['Action', 'RPG']   \n",
              "7377   Linear Action Adventure  ['Linear', 'Action', 'Adventure']   \n",
              "7591         Open-World Action           ['Open-World', 'Action']   \n",
              "13391        Open-World Action           ['Open-World', 'Action']   \n",
              "6075         Open-World Action           ['Open-World', 'Action']   \n",
              "2930   Linear Action Adventure  ['Linear', 'Action', 'Adventure']   \n",
              "7612                Action RPG                  ['Action', 'RPG']   \n",
              "3368   Linear Action Adventure  ['Linear', 'Action', 'Adventure']   \n",
              "3212         Open-World Action           ['Open-World', 'Action']   \n",
              "\n",
              "               Avaliação do Produto  Pontuação do Usuário  \\\n",
              "10941            Rated M For Mature                   5.8   \n",
              "13678            Rated M For Mature                   7.1   \n",
              "7377             Rated M For Mature                   9.1   \n",
              "7591             Rated M For Mature                   8.8   \n",
              "13391            Rated M For Mature                   9.1   \n",
              "6075   Rated E +10 For Everyone +10                   8.8   \n",
              "2930             Rated M For Mature                   9.2   \n",
              "7612             Rated M For Mature                   9.2   \n",
              "3368               Rated T For Teen                   8.8   \n",
              "3212             Rated M For Mature                   7.4   \n",
              "\n",
              "       Número de Avaliações do Usuário  \\\n",
              "10941                         163419.0   \n",
              "13678                          35194.0   \n",
              "7377                           24855.0   \n",
              "7591                           23875.0   \n",
              "13391                          21863.0   \n",
              "6075                           22216.0   \n",
              "2930                           20141.0   \n",
              "7612                           19581.0   \n",
              "3368                           17412.0   \n",
              "3212                           18746.0   \n",
              "\n",
              "                             Informações das Plataformas  Pontuaçaõ geral  \\\n",
              "10941  [{'Platform': 'PlayStation 4', 'Platform Metas...         947830.2   \n",
              "13678  [{'Platform': 'PC', 'Platform Metascore': '86'...         249877.4   \n",
              "7377   [{'Platform': 'PlayStation 4', 'Platform Metas...         226180.5   \n",
              "7591   [{'Platform': 'Xbox One', 'Platform Metascore'...         210100.0   \n",
              "13391  [{'Platform': 'PlayStation 4', 'Platform Metas...         198953.3   \n",
              "6075   [{'Platform': 'Wii U', 'Platform Metascore': '...         195500.8   \n",
              "2930   [{'Platform': 'PlayStation 4', 'Platform Metas...         185297.2   \n",
              "7612   [{'Platform': 'PC', 'Platform Metascore': '93'...         180145.2   \n",
              "3368   [{'Platform': 'PlayStation 4', 'Platform Metas...         153225.6   \n",
              "3212   [{'Platform': 'PlayStation 4', 'Platform Metas...         138720.4   \n",
              "\n",
              "      Somente o ano de lancamento   \n",
              "10941                       2020.0  \n",
              "13678                       2020.0  \n",
              "7377                        2018.0  \n",
              "7591                        2018.0  \n",
              "13391                       2020.0  \n",
              "6075                        2017.0  \n",
              "2930                        2014.0  \n",
              "7612                        2015.0  \n",
              "3368                        2016.0  \n",
              "3212                        2019.0  "
            ],
            "text/html": [
              "\n",
              "  <div id=\"df-b620aa01-7d52-47a6-ae01-0ded82667b50\" class=\"colab-df-container\">\n",
              "    <div>\n",
              "<style scoped>\n",
              "    .dataframe tbody tr th:only-of-type {\n",
              "        vertical-align: middle;\n",
              "    }\n",
              "\n",
              "    .dataframe tbody tr th {\n",
              "        vertical-align: top;\n",
              "    }\n",
              "\n",
              "    .dataframe thead th {\n",
              "        text-align: right;\n",
              "    }\n",
              "</style>\n",
              "<table border=\"1\" class=\"dataframe\">\n",
              "  <thead>\n",
              "    <tr style=\"text-align: right;\">\n",
              "      <th></th>\n",
              "      <th>Título</th>\n",
              "      <th>Ano de Lançamento</th>\n",
              "      <th>Desenvolvedor</th>\n",
              "      <th>Editora</th>\n",
              "      <th>Gêneros</th>\n",
              "      <th>Gêneros Separados</th>\n",
              "      <th>Avaliação do Produto</th>\n",
              "      <th>Pontuação do Usuário</th>\n",
              "      <th>Número de Avaliações do Usuário</th>\n",
              "      <th>Informações das Plataformas</th>\n",
              "      <th>Pontuaçaõ geral</th>\n",
              "      <th>Somente o ano de lancamento</th>\n",
              "    </tr>\n",
              "  </thead>\n",
              "  <tbody>\n",
              "    <tr>\n",
              "      <th>10941</th>\n",
              "      <td>The Last of Us Part II</td>\n",
              "      <td>2020-06-19</td>\n",
              "      <td>Naughty Dog</td>\n",
              "      <td>Sony Interactive Entertainment</td>\n",
              "      <td>Survival</td>\n",
              "      <td>['Survival']</td>\n",
              "      <td>Rated M For Mature</td>\n",
              "      <td>5.8</td>\n",
              "      <td>163419.0</td>\n",
              "      <td>[{'Platform': 'PlayStation 4', 'Platform Metas...</td>\n",
              "      <td>947830.2</td>\n",
              "      <td>2020.0</td>\n",
              "    </tr>\n",
              "    <tr>\n",
              "      <th>13678</th>\n",
              "      <td>Cyberpunk 2077</td>\n",
              "      <td>2020-12-10</td>\n",
              "      <td>CD Projekt Red Studio</td>\n",
              "      <td>CD Projekt Red Studio</td>\n",
              "      <td>Action RPG</td>\n",
              "      <td>['Action', 'RPG']</td>\n",
              "      <td>Rated M For Mature</td>\n",
              "      <td>7.1</td>\n",
              "      <td>35194.0</td>\n",
              "      <td>[{'Platform': 'PC', 'Platform Metascore': '86'...</td>\n",
              "      <td>249877.4</td>\n",
              "      <td>2020.0</td>\n",
              "    </tr>\n",
              "    <tr>\n",
              "      <th>7377</th>\n",
              "      <td>God of War</td>\n",
              "      <td>2018-04-20</td>\n",
              "      <td>SCE Santa Monica</td>\n",
              "      <td>Sony Interactive Entertainment</td>\n",
              "      <td>Linear Action Adventure</td>\n",
              "      <td>['Linear', 'Action', 'Adventure']</td>\n",
              "      <td>Rated M For Mature</td>\n",
              "      <td>9.1</td>\n",
              "      <td>24855.0</td>\n",
              "      <td>[{'Platform': 'PlayStation 4', 'Platform Metas...</td>\n",
              "      <td>226180.5</td>\n",
              "      <td>2018.0</td>\n",
              "    </tr>\n",
              "    <tr>\n",
              "      <th>7591</th>\n",
              "      <td>Red Dead Redemption 2</td>\n",
              "      <td>2018-10-26</td>\n",
              "      <td>Rockstar Games</td>\n",
              "      <td>Rockstar Games</td>\n",
              "      <td>Open-World Action</td>\n",
              "      <td>['Open-World', 'Action']</td>\n",
              "      <td>Rated M For Mature</td>\n",
              "      <td>8.8</td>\n",
              "      <td>23875.0</td>\n",
              "      <td>[{'Platform': 'Xbox One', 'Platform Metascore'...</td>\n",
              "      <td>210100.0</td>\n",
              "      <td>2018.0</td>\n",
              "    </tr>\n",
              "    <tr>\n",
              "      <th>13391</th>\n",
              "      <td>Ghost of Tsushima</td>\n",
              "      <td>2020-07-17</td>\n",
              "      <td>Sucker Punch</td>\n",
              "      <td>Sony Interactive Entertainment</td>\n",
              "      <td>Open-World Action</td>\n",
              "      <td>['Open-World', 'Action']</td>\n",
              "      <td>Rated M For Mature</td>\n",
              "      <td>9.1</td>\n",
              "      <td>21863.0</td>\n",
              "      <td>[{'Platform': 'PlayStation 4', 'Platform Metas...</td>\n",
              "      <td>198953.3</td>\n",
              "      <td>2020.0</td>\n",
              "    </tr>\n",
              "    <tr>\n",
              "      <th>6075</th>\n",
              "      <td>The Legend of Zelda: Breath of the Wild</td>\n",
              "      <td>2017-03-03</td>\n",
              "      <td>Nintendo</td>\n",
              "      <td>Nintendo</td>\n",
              "      <td>Open-World Action</td>\n",
              "      <td>['Open-World', 'Action']</td>\n",
              "      <td>Rated E +10 For Everyone +10</td>\n",
              "      <td>8.8</td>\n",
              "      <td>22216.0</td>\n",
              "      <td>[{'Platform': 'Wii U', 'Platform Metascore': '...</td>\n",
              "      <td>195500.8</td>\n",
              "      <td>2017.0</td>\n",
              "    </tr>\n",
              "    <tr>\n",
              "      <th>2930</th>\n",
              "      <td>The Last of Us Remastered</td>\n",
              "      <td>2014-07-29</td>\n",
              "      <td>Naughty Dog</td>\n",
              "      <td>SCEA</td>\n",
              "      <td>Linear Action Adventure</td>\n",
              "      <td>['Linear', 'Action', 'Adventure']</td>\n",
              "      <td>Rated M For Mature</td>\n",
              "      <td>9.2</td>\n",
              "      <td>20141.0</td>\n",
              "      <td>[{'Platform': 'PlayStation 4', 'Platform Metas...</td>\n",
              "      <td>185297.2</td>\n",
              "      <td>2014.0</td>\n",
              "    </tr>\n",
              "    <tr>\n",
              "      <th>7612</th>\n",
              "      <td>The Witcher 3: Wild Hunt</td>\n",
              "      <td>2015-05-19</td>\n",
              "      <td>CD Projekt Red Studio</td>\n",
              "      <td>Warner Bros. Interactive Entertainment</td>\n",
              "      <td>Action RPG</td>\n",
              "      <td>['Action', 'RPG']</td>\n",
              "      <td>Rated M For Mature</td>\n",
              "      <td>9.2</td>\n",
              "      <td>19581.0</td>\n",
              "      <td>[{'Platform': 'PC', 'Platform Metascore': '93'...</td>\n",
              "      <td>180145.2</td>\n",
              "      <td>2015.0</td>\n",
              "    </tr>\n",
              "    <tr>\n",
              "      <th>3368</th>\n",
              "      <td>Uncharted 4: A Thief's End</td>\n",
              "      <td>2016-05-10</td>\n",
              "      <td>Naughty Dog</td>\n",
              "      <td>Sony Interactive Entertainment</td>\n",
              "      <td>Linear Action Adventure</td>\n",
              "      <td>['Linear', 'Action', 'Adventure']</td>\n",
              "      <td>Rated T For Teen</td>\n",
              "      <td>8.8</td>\n",
              "      <td>17412.0</td>\n",
              "      <td>[{'Platform': 'PlayStation 4', 'Platform Metas...</td>\n",
              "      <td>153225.6</td>\n",
              "      <td>2016.0</td>\n",
              "    </tr>\n",
              "    <tr>\n",
              "      <th>3212</th>\n",
              "      <td>Death Stranding</td>\n",
              "      <td>2019-11-08</td>\n",
              "      <td>Kojima Productions</td>\n",
              "      <td>Sony Interactive Entertainment</td>\n",
              "      <td>Open-World Action</td>\n",
              "      <td>['Open-World', 'Action']</td>\n",
              "      <td>Rated M For Mature</td>\n",
              "      <td>7.4</td>\n",
              "      <td>18746.0</td>\n",
              "      <td>[{'Platform': 'PlayStation 4', 'Platform Metas...</td>\n",
              "      <td>138720.4</td>\n",
              "      <td>2019.0</td>\n",
              "    </tr>\n",
              "  </tbody>\n",
              "</table>\n",
              "</div>\n",
              "    <div class=\"colab-df-buttons\">\n",
              "\n",
              "  <div class=\"colab-df-container\">\n",
              "    <button class=\"colab-df-convert\" onclick=\"convertToInteractive('df-b620aa01-7d52-47a6-ae01-0ded82667b50')\"\n",
              "            title=\"Convert this dataframe to an interactive table.\"\n",
              "            style=\"display:none;\">\n",
              "\n",
              "  <svg xmlns=\"http://www.w3.org/2000/svg\" height=\"24px\" viewBox=\"0 -960 960 960\">\n",
              "    <path d=\"M120-120v-720h720v720H120Zm60-500h600v-160H180v160Zm220 220h160v-160H400v160Zm0 220h160v-160H400v160ZM180-400h160v-160H180v160Zm440 0h160v-160H620v160ZM180-180h160v-160H180v160Zm440 0h160v-160H620v160Z\"/>\n",
              "  </svg>\n",
              "    </button>\n",
              "\n",
              "  <style>\n",
              "    .colab-df-container {\n",
              "      display:flex;\n",
              "      gap: 12px;\n",
              "    }\n",
              "\n",
              "    .colab-df-convert {\n",
              "      background-color: #E8F0FE;\n",
              "      border: none;\n",
              "      border-radius: 50%;\n",
              "      cursor: pointer;\n",
              "      display: none;\n",
              "      fill: #1967D2;\n",
              "      height: 32px;\n",
              "      padding: 0 0 0 0;\n",
              "      width: 32px;\n",
              "    }\n",
              "\n",
              "    .colab-df-convert:hover {\n",
              "      background-color: #E2EBFA;\n",
              "      box-shadow: 0px 1px 2px rgba(60, 64, 67, 0.3), 0px 1px 3px 1px rgba(60, 64, 67, 0.15);\n",
              "      fill: #174EA6;\n",
              "    }\n",
              "\n",
              "    .colab-df-buttons div {\n",
              "      margin-bottom: 4px;\n",
              "    }\n",
              "\n",
              "    [theme=dark] .colab-df-convert {\n",
              "      background-color: #3B4455;\n",
              "      fill: #D2E3FC;\n",
              "    }\n",
              "\n",
              "    [theme=dark] .colab-df-convert:hover {\n",
              "      background-color: #434B5C;\n",
              "      box-shadow: 0px 1px 3px 1px rgba(0, 0, 0, 0.15);\n",
              "      filter: drop-shadow(0px 1px 2px rgba(0, 0, 0, 0.3));\n",
              "      fill: #FFFFFF;\n",
              "    }\n",
              "  </style>\n",
              "\n",
              "    <script>\n",
              "      const buttonEl =\n",
              "        document.querySelector('#df-b620aa01-7d52-47a6-ae01-0ded82667b50 button.colab-df-convert');\n",
              "      buttonEl.style.display =\n",
              "        google.colab.kernel.accessAllowed ? 'block' : 'none';\n",
              "\n",
              "      async function convertToInteractive(key) {\n",
              "        const element = document.querySelector('#df-b620aa01-7d52-47a6-ae01-0ded82667b50');\n",
              "        const dataTable =\n",
              "          await google.colab.kernel.invokeFunction('convertToInteractive',\n",
              "                                                    [key], {});\n",
              "        if (!dataTable) return;\n",
              "\n",
              "        const docLinkHtml = 'Like what you see? Visit the ' +\n",
              "          '<a target=\"_blank\" href=https://colab.research.google.com/notebooks/data_table.ipynb>data table notebook</a>'\n",
              "          + ' to learn more about interactive tables.';\n",
              "        element.innerHTML = '';\n",
              "        dataTable['output_type'] = 'display_data';\n",
              "        await google.colab.output.renderOutput(dataTable, element);\n",
              "        const docLink = document.createElement('div');\n",
              "        docLink.innerHTML = docLinkHtml;\n",
              "        element.appendChild(docLink);\n",
              "      }\n",
              "    </script>\n",
              "  </div>\n",
              "\n",
              "\n",
              "<div id=\"df-944cea2c-e96e-4ba9-8141-236c33fbbeb6\">\n",
              "  <button class=\"colab-df-quickchart\" onclick=\"quickchart('df-944cea2c-e96e-4ba9-8141-236c33fbbeb6')\"\n",
              "            title=\"Suggest charts\"\n",
              "            style=\"display:none;\">\n",
              "\n",
              "<svg xmlns=\"http://www.w3.org/2000/svg\" height=\"24px\"viewBox=\"0 0 24 24\"\n",
              "     width=\"24px\">\n",
              "    <g>\n",
              "        <path d=\"M19 3H5c-1.1 0-2 .9-2 2v14c0 1.1.9 2 2 2h14c1.1 0 2-.9 2-2V5c0-1.1-.9-2-2-2zM9 17H7v-7h2v7zm4 0h-2V7h2v10zm4 0h-2v-4h2v4z\"/>\n",
              "    </g>\n",
              "</svg>\n",
              "  </button>\n",
              "\n",
              "<style>\n",
              "  .colab-df-quickchart {\n",
              "      --bg-color: #E8F0FE;\n",
              "      --fill-color: #1967D2;\n",
              "      --hover-bg-color: #E2EBFA;\n",
              "      --hover-fill-color: #174EA6;\n",
              "      --disabled-fill-color: #AAA;\n",
              "      --disabled-bg-color: #DDD;\n",
              "  }\n",
              "\n",
              "  [theme=dark] .colab-df-quickchart {\n",
              "      --bg-color: #3B4455;\n",
              "      --fill-color: #D2E3FC;\n",
              "      --hover-bg-color: #434B5C;\n",
              "      --hover-fill-color: #FFFFFF;\n",
              "      --disabled-bg-color: #3B4455;\n",
              "      --disabled-fill-color: #666;\n",
              "  }\n",
              "\n",
              "  .colab-df-quickchart {\n",
              "    background-color: var(--bg-color);\n",
              "    border: none;\n",
              "    border-radius: 50%;\n",
              "    cursor: pointer;\n",
              "    display: none;\n",
              "    fill: var(--fill-color);\n",
              "    height: 32px;\n",
              "    padding: 0;\n",
              "    width: 32px;\n",
              "  }\n",
              "\n",
              "  .colab-df-quickchart:hover {\n",
              "    background-color: var(--hover-bg-color);\n",
              "    box-shadow: 0 1px 2px rgba(60, 64, 67, 0.3), 0 1px 3px 1px rgba(60, 64, 67, 0.15);\n",
              "    fill: var(--button-hover-fill-color);\n",
              "  }\n",
              "\n",
              "  .colab-df-quickchart-complete:disabled,\n",
              "  .colab-df-quickchart-complete:disabled:hover {\n",
              "    background-color: var(--disabled-bg-color);\n",
              "    fill: var(--disabled-fill-color);\n",
              "    box-shadow: none;\n",
              "  }\n",
              "\n",
              "  .colab-df-spinner {\n",
              "    border: 2px solid var(--fill-color);\n",
              "    border-color: transparent;\n",
              "    border-bottom-color: var(--fill-color);\n",
              "    animation:\n",
              "      spin 1s steps(1) infinite;\n",
              "  }\n",
              "\n",
              "  @keyframes spin {\n",
              "    0% {\n",
              "      border-color: transparent;\n",
              "      border-bottom-color: var(--fill-color);\n",
              "      border-left-color: var(--fill-color);\n",
              "    }\n",
              "    20% {\n",
              "      border-color: transparent;\n",
              "      border-left-color: var(--fill-color);\n",
              "      border-top-color: var(--fill-color);\n",
              "    }\n",
              "    30% {\n",
              "      border-color: transparent;\n",
              "      border-left-color: var(--fill-color);\n",
              "      border-top-color: var(--fill-color);\n",
              "      border-right-color: var(--fill-color);\n",
              "    }\n",
              "    40% {\n",
              "      border-color: transparent;\n",
              "      border-right-color: var(--fill-color);\n",
              "      border-top-color: var(--fill-color);\n",
              "    }\n",
              "    60% {\n",
              "      border-color: transparent;\n",
              "      border-right-color: var(--fill-color);\n",
              "    }\n",
              "    80% {\n",
              "      border-color: transparent;\n",
              "      border-right-color: var(--fill-color);\n",
              "      border-bottom-color: var(--fill-color);\n",
              "    }\n",
              "    90% {\n",
              "      border-color: transparent;\n",
              "      border-bottom-color: var(--fill-color);\n",
              "    }\n",
              "  }\n",
              "</style>\n",
              "\n",
              "  <script>\n",
              "    async function quickchart(key) {\n",
              "      const quickchartButtonEl =\n",
              "        document.querySelector('#' + key + ' button');\n",
              "      quickchartButtonEl.disabled = true;  // To prevent multiple clicks.\n",
              "      quickchartButtonEl.classList.add('colab-df-spinner');\n",
              "      try {\n",
              "        const charts = await google.colab.kernel.invokeFunction(\n",
              "            'suggestCharts', [key], {});\n",
              "      } catch (error) {\n",
              "        console.error('Error during call to suggestCharts:', error);\n",
              "      }\n",
              "      quickchartButtonEl.classList.remove('colab-df-spinner');\n",
              "      quickchartButtonEl.classList.add('colab-df-quickchart-complete');\n",
              "    }\n",
              "    (() => {\n",
              "      let quickchartButtonEl =\n",
              "        document.querySelector('#df-944cea2c-e96e-4ba9-8141-236c33fbbeb6 button');\n",
              "      quickchartButtonEl.style.display =\n",
              "        google.colab.kernel.accessAllowed ? 'block' : 'none';\n",
              "    })();\n",
              "  </script>\n",
              "</div>\n",
              "\n",
              "    </div>\n",
              "  </div>\n"
            ],
            "application/vnd.google.colaboratory.intrinsic+json": {
              "type": "dataframe",
              "variable_name": "jogos_mais_populares",
              "summary": "{\n  \"name\": \"jogos_mais_populares\",\n  \"rows\": 14055,\n  \"fields\": [\n    {\n      \"column\": \"T\\u00edtulo\",\n      \"properties\": {\n        \"dtype\": \"string\",\n        \"num_unique_values\": 14034,\n        \"samples\": [\n          \"Black Desert Online\",\n          \"White Shadows\",\n          \"Naruto: Ninja Destiny\"\n        ],\n        \"semantic_type\": \"\",\n        \"description\": \"\"\n      }\n    },\n    {\n      \"column\": \"Ano de Lan\\u00e7amento\",\n      \"properties\": {\n        \"dtype\": \"date\",\n        \"min\": \"1995-04-30 00:00:00\",\n        \"max\": \"2024-03-05 00:00:00\",\n        \"num_unique_values\": 4752,\n        \"samples\": [\n          \"2021-06-04 00:00:00\",\n          \"2003-07-25 00:00:00\",\n          \"2013-10-12 00:00:00\"\n        ],\n        \"semantic_type\": \"\",\n        \"description\": \"\"\n      }\n    },\n    {\n      \"column\": \"Desenvolvedor\",\n      \"properties\": {\n        \"dtype\": \"category\",\n        \"num_unique_values\": 4449,\n        \"samples\": [\n          \"Black Sea Studios\",\n          \"Bliss Brain\",\n          \"Zono Inc.\"\n        ],\n        \"semantic_type\": \"\",\n        \"description\": \"\"\n      }\n    },\n    {\n      \"column\": \"Editora\",\n      \"properties\": {\n        \"dtype\": \"category\",\n        \"num_unique_values\": 2307,\n        \"samples\": [\n          \"Snappy Touch\",\n          \"Cococucumber\",\n          \"Weird Beluga\"\n        ],\n        \"semantic_type\": \"\",\n        \"description\": \"\"\n      }\n    },\n    {\n      \"column\": \"G\\u00eaneros\",\n      \"properties\": {\n        \"dtype\": \"category\",\n        \"num_unique_values\": 119,\n        \"samples\": [\n          \"Soccer Sim\",\n          \"Sports\",\n          \"Western RPG\"\n        ],\n        \"semantic_type\": \"\",\n        \"description\": \"\"\n      }\n    },\n    {\n      \"column\": \"G\\u00eaneros Separados\",\n      \"properties\": {\n        \"dtype\": \"category\",\n        \"num_unique_values\": 119,\n        \"samples\": [\n          \"['Soccer', 'Sim']\",\n          \"['Sports']\",\n          \"['Western', 'RPG']\"\n        ],\n        \"semantic_type\": \"\",\n        \"description\": \"\"\n      }\n    },\n    {\n      \"column\": \"Avalia\\u00e7\\u00e3o do Produto\",\n      \"properties\": {\n        \"dtype\": \"category\",\n        \"num_unique_values\": 6,\n        \"samples\": [\n          \"Rated M For Mature\",\n          \"Rated E +10 For Everyone +10\",\n          \"Rated AO For Adults Only\"\n        ],\n        \"semantic_type\": \"\",\n        \"description\": \"\"\n      }\n    },\n    {\n      \"column\": \"Pontua\\u00e7\\u00e3o do Usu\\u00e1rio\",\n      \"properties\": {\n        \"dtype\": \"number\",\n        \"std\": 1.2760588127652206,\n        \"min\": 0.3,\n        \"max\": 10.0,\n        \"num_unique_values\": 96,\n        \"samples\": [\n          0.3,\n          3.3,\n          5.9\n        ],\n        \"semantic_type\": \"\",\n        \"description\": \"\"\n      }\n    },\n    {\n      \"column\": \"N\\u00famero de Avalia\\u00e7\\u00f5es do Usu\\u00e1rio\",\n      \"properties\": {\n        \"dtype\": \"number\",\n        \"std\": 1658.9605474292846,\n        \"min\": 5.0,\n        \"max\": 163419.0,\n        \"num_unique_values\": 1237,\n        \"samples\": [\n          659.0,\n          2642.0,\n          320.0\n        ],\n        \"semantic_type\": \"\",\n        \"description\": \"\"\n      }\n    },\n    {\n      \"column\": \"Informa\\u00e7\\u00f5es das Plataformas\",\n      \"properties\": {\n        \"dtype\": \"string\",\n        \"num_unique_values\": 11956,\n        \"samples\": [\n          \"[{'Platform': 'Wii U', 'Platform Metascore': '82', 'Platform Metascore Count': 'Based on 34 Critic Reviews'}, {'Platform': 'PC', 'Platform Metascore': 'tbd', 'Platform Metascore Count': 'Based on 2 Critic Reviews'}, {'Platform': 'Xbox One', 'Platform Metascore': 'tbd', 'Platform Metascore Count': 'Based on 2 Critic Reviews'}, {'Platform': 'PlayStation 4', 'Platform Metascore': '71', 'Platform Metascore Count': 'Based on 7 Critic Reviews'}, {'Platform': 'Nintendo Switch', 'Platform Metascore': '79', 'Platform Metascore Count': 'Based on 11 Critic Reviews'}, {'Platform': '3DS', 'Platform Metascore': '66', 'Platform Metascore Count': 'Based on 4 Critic Reviews'}]\",\n          \"[{'Platform': 'PC', 'Platform Metascore': '82', 'Platform Metascore Count': 'Based on 8 Critic Reviews'}, {'Platform': 'Nintendo Switch', 'Platform Metascore': 'tbd', 'Platform Metascore Count': 'Based on 3 Critic Reviews'}]\",\n          \"[{'Platform': 'PlayStation Vita', 'Platform Metascore': '61', 'Platform Metascore Count': 'Based on 22 Critic Reviews'}, {'Platform': 'PC', 'Platform Metascore': 'tbd', 'Platform Metascore Count': 'Based on 1 Critic Review'}]\"\n        ],\n        \"semantic_type\": \"\",\n        \"description\": \"\"\n      }\n    },\n    {\n      \"column\": \"Pontua\\u00e7a\\u00f5 geral\",\n      \"properties\": {\n        \"dtype\": \"number\",\n        \"std\": 10662.301601618201,\n        \"min\": 1.8,\n        \"max\": 947830.2,\n        \"num_unique_values\": 4522,\n        \"samples\": [\n          155.4,\n          848.4,\n          11.0\n        ],\n        \"semantic_type\": \"\",\n        \"description\": \"\"\n      }\n    },\n    {\n      \"column\": \"Somente o ano de lancamento \",\n      \"properties\": {\n        \"dtype\": \"category\",\n        \"num_unique_values\": 31,\n        \"samples\": [\n          1996.0,\n          2012.0,\n          2006.0\n        ],\n        \"semantic_type\": \"\",\n        \"description\": \"\"\n      }\n    }\n  ]\n}"
            }
          },
          "metadata": {},
          "execution_count": 129
        }
      ]
    },
    {
      "cell_type": "markdown",
      "source": [
        "### Selecionando os top 10 melhores avaliados para descobrir a media de popularidade."
      ],
      "metadata": {
        "id": "9SEMxxs_VA_a"
      }
    },
    {
      "cell_type": "code",
      "source": [
        "# Selecionar os top 10 jogos mais populares\n",
        "top_10_jogos = jogos_mais_populares.head(10)\n",
        "\n",
        "# Calcular a média da popularidade dos top 10 jogos\n",
        "media_popularidade_top_10 = top_10_jogos['Pontuaçaõ geral'].mean()\n",
        "\n",
        "# Arredondar a média da popularidade dos top 10 jogos para duas casas decimais\n",
        "media_popularidade_arredondada = round(media_popularidade_top_10, 2)\n",
        "\n",
        "print(\"A média de popularidade dos top 10 jogos é:\", media_popularidade_arredondada)\n"
      ],
      "metadata": {
        "id": "BDwD5RFmEr22",
        "outputId": "23e62986-dd83-44b9-c581-366e8a876d17",
        "colab": {
          "base_uri": "https://localhost:8080/"
        }
      },
      "execution_count": 41,
      "outputs": [
        {
          "output_type": "stream",
          "name": "stdout",
          "text": [
            "A média de popularidade dos top 10 jogos é: 268583.06\n"
          ]
        }
      ]
    },
    {
      "cell_type": "markdown",
      "source": [
        "### Nesse parametro pegamos a media da pontuação por titulos(Top10)."
      ],
      "metadata": {
        "id": "mWoTZMaaVpvg"
      }
    },
    {
      "cell_type": "code",
      "source": [
        "#Média de pontuacao geral por desenvolvedor;\n",
        "\n",
        "mean_score_by_developer = df_auxiliar.groupby('Título')['Pontuaçaõ geral'].mean().sort_values(ascending=False)\n",
        "print(\"Média da Pontuação Geral por titulo:\")\n",
        "print(mean_score_by_developer.head(10))"
      ],
      "metadata": {
        "colab": {
          "base_uri": "https://localhost:8080/"
        },
        "id": "rM3uIi8A5cSv",
        "outputId": "9178db05-f644-4433-f2c0-99077f6c08bf"
      },
      "execution_count": 16,
      "outputs": [
        {
          "output_type": "stream",
          "name": "stdout",
          "text": [
            "Média da Pontuação Geral por titulo:\n",
            "Título\n",
            "The Last of Us Part II                     947830.2\n",
            "Cyberpunk 2077                             249877.4\n",
            "God of War                                 226180.5\n",
            "Red Dead Redemption 2                      210100.0\n",
            "Ghost of Tsushima                          198953.3\n",
            "The Legend of Zelda: Breath of the Wild    195500.8\n",
            "The Last of Us Remastered                  185297.2\n",
            "The Witcher 3: Wild Hunt                   180145.2\n",
            "Uncharted 4: A Thief's End                 153225.6\n",
            "Death Stranding                            138720.4\n",
            "Name: Pontuaçaõ geral, dtype: float64\n"
          ]
        }
      ]
    },
    {
      "cell_type": "code",
      "source": [
        "#Optamos tambem por saber qual e a correlação da Pontuação Geral, com Numero de avaliações do usuario e Pontuaçao do usuario.\n",
        "correlation_with_score = df_auxiliar.corr()['Pontuaçaõ geral'].sort_values(ascending=False)\n",
        "print(\"Correlação da Pontuação Geral com outras variáveis:\\n\")\n",
        "print(correlation_with_score)"
      ],
      "metadata": {
        "colab": {
          "base_uri": "https://localhost:8080/"
        },
        "id": "YFTkbIkc7URW",
        "outputId": "c45b3b9b-9fa8-422a-9834-449e78ac705f"
      },
      "execution_count": 26,
      "outputs": [
        {
          "output_type": "stream",
          "name": "stdout",
          "text": [
            "Correlação da Pontuação Geral com outras variáveis:\n",
            "\n",
            "Pontuaçaõ geral                    1.000000\n",
            "Número de Avaliações do Usuário    0.968042\n",
            "Pontuação do Usuário               0.080783\n",
            "Name: Pontuaçaõ geral, dtype: float64\n"
          ]
        },
        {
          "output_type": "stream",
          "name": "stderr",
          "text": [
            "<ipython-input-26-42c90d1b8a55>:2: FutureWarning: The default value of numeric_only in DataFrame.corr is deprecated. In a future version, it will default to False. Select only valid columns or specify the value of numeric_only to silence this warning.\n",
            "  correlation_with_score = df_auxiliar.corr()['Pontuaçaõ geral'].sort_values(ascending=False)\n"
          ]
        }
      ]
    },
    {
      "cell_type": "code",
      "source": [
        "dados_orga = df_auxiliar.sort_values(by='Pontuaçaõ geral', ascending=False)\n",
        "\n",
        "# Selecionar os top 10 jogos mais populares\n",
        "top_n_games = dados_orga.head(10)\n",
        "\n",
        "# Criar o gráfico de barras\n",
        "plt.figure(figsize=(10, 6))\n",
        "plt.barh(top_n_games['Título'], top_n_games['Pontuaçaõ geral'], color='skyblue')\n",
        "plt.xlabel('Número de Avaliações do Usuário')\n",
        "plt.ylabel('Jogo')\n",
        "plt.title('Top 10 Jogos Mais Populares')\n",
        "plt.gca().invert_yaxis()  # Inverter o eixo y para que o jogo mais popular fique no topo\n",
        "plt.show()"
      ],
      "metadata": {
        "colab": {
          "base_uri": "https://localhost:8080/",
          "height": 565
        },
        "id": "TNbYOApjy8b1",
        "outputId": "ebcb83a6-e0ad-41f2-a2a4-2b7876db4c9a"
      },
      "execution_count": null,
      "outputs": [
        {
          "output_type": "display_data",
          "data": {
            "text/plain": [
              "<Figure size 1000x600 with 1 Axes>"
            ],
            "image/png": "[encoded data removed]"
          },
          "metadata": {}
        }
      ]
    },
    {
      "cell_type": "code",
      "source": [
        "fig = px.scatter(top_10_jogos, x='Somente o ano de lancamento ', y='Pontuaçaõ geral', size='Pontuaçaõ geral', color='Título',title='Jogos mais populares',log_x=True, size_max=50)\n",
        "fig.show(render='iframe')"
      ],
      "metadata": {
        "id": "PPY8lzAi3Qdf",
        "outputId": "47fa180c-0597-4b59-fc3c-d5e383306c5e",
        "colab": {
          "base_uri": "https://localhost:8080/",
          "height": 542
        }
      },
      "execution_count": 135,
      "outputs": [
        {
          "output_type": "display_data",
          "data": {
            "text/html": [
              "<html>\n",
              "<head><meta charset=\"utf-8\" /></head>\n",
              "<body>\n",
              "    <div>            <script src=\"https://cdnjs.cloudflare.com/ajax/libs/mathjax/2.7.5/MathJax.js?config=TeX-AMS-MML_SVG\"></script><script type=\"text/javascript\">if (window.MathJax && window.MathJax.Hub && window.MathJax.Hub.Config) {window.MathJax.Hub.Config({SVG: {font: \"STIX-Web\"}});}</script>                <script type=\"text/javascript\">window.PlotlyConfig = {MathJaxConfig: 'local'};</script>\n",
              "        <script charset=\"utf-8\" src=\"https://cdn.plot.ly/plotly-2.24.1.min.js\"></script>                <div id=\"592eb5f1-fd90-4089-b6bd-e7e125761cd3\" class=\"plotly-graph-div\" style=\"height:525px; width:100%;\"></div>            <script type=\"text/javascript\">                                    window.PLOTLYENV=window.PLOTLYENV || {};                                    if (document.getElementById(\"592eb5f1-fd90-4089-b6bd-e7e125761cd3\")) {                    Plotly.newPlot(                        \"592eb5f1-fd90-4089-b6bd-e7e125761cd3\",                        [{\"hovertemplate\":\"T\\u00edtulo=The Last of Us Part II\\u003cbr\\u003eSomente o ano de lancamento =%{x}\\u003cbr\\u003ePontua\\u00e7a\\u00f5 geral=%{marker.size}\\u003cextra\\u003e\\u003c\\u002fextra\\u003e\",\"legendgroup\":\"The Last of Us Part II\",\"marker\":{\"color\":\"#636efa\",\"size\":[947830.2],\"sizemode\":\"area\",\"sizeref\":379.13208,\"symbol\":\"circle\"},\"mode\":\"markers\",\"name\":\"The Last of Us Part II\",\"orientation\":\"v\",\"showlegend\":true,\"x\":[2020.0],\"xaxis\":\"x\",\"y\":[947830.2],\"yaxis\":\"y\",\"type\":\"scatter\"},{\"hovertemplate\":\"T\\u00edtulo=Cyberpunk 2077\\u003cbr\\u003eSomente o ano de lancamento =%{x}\\u003cbr\\u003ePontua\\u00e7a\\u00f5 geral=%{marker.size}\\u003cextra\\u003e\\u003c\\u002fextra\\u003e\",\"legendgroup\":\"Cyberpunk 2077\",\"marker\":{\"color\":\"#EF553B\",\"size\":[249877.4],\"sizemode\":\"area\",\"sizeref\":379.13208,\"symbol\":\"circle\"},\"mode\":\"markers\",\"name\":\"Cyberpunk 2077\",\"orientation\":\"v\",\"showlegend\":true,\"x\":[2020.0],\"xaxis\":\"x\",\"y\":[249877.4],\"yaxis\":\"y\",\"type\":\"scatter\"},{\"hovertemplate\":\"T\\u00edtulo=God of War\\u003cbr\\u003eSomente o ano de lancamento =%{x}\\u003cbr\\u003ePontua\\u00e7a\\u00f5 geral=%{marker.size}\\u003cextra\\u003e\\u003c\\u002fextra\\u003e\",\"legendgroup\":\"God of War\",\"marker\":{\"color\":\"#00cc96\",\"size\":[226180.5],\"sizemode\":\"area\",\"sizeref\":379.13208,\"symbol\":\"circle\"},\"mode\":\"markers\",\"name\":\"God of War\",\"orientation\":\"v\",\"showlegend\":true,\"x\":[2018.0],\"xaxis\":\"x\",\"y\":[226180.5],\"yaxis\":\"y\",\"type\":\"scatter\"},{\"hovertemplate\":\"T\\u00edtulo=Red Dead Redemption 2\\u003cbr\\u003eSomente o ano de lancamento =%{x}\\u003cbr\\u003ePontua\\u00e7a\\u00f5 geral=%{marker.size}\\u003cextra\\u003e\\u003c\\u002fextra\\u003e\",\"legendgroup\":\"Red Dead Redemption 2\",\"marker\":{\"color\":\"#ab63fa\",\"size\":[210100.00000000003],\"sizemode\":\"area\",\"sizeref\":379.13208,\"symbol\":\"circle\"},\"mode\":\"markers\",\"name\":\"Red Dead Redemption 2\",\"orientation\":\"v\",\"showlegend\":true,\"x\":[2018.0],\"xaxis\":\"x\",\"y\":[210100.00000000003],\"yaxis\":\"y\",\"type\":\"scatter\"},{\"hovertemplate\":\"T\\u00edtulo=Ghost of Tsushima\\u003cbr\\u003eSomente o ano de lancamento =%{x}\\u003cbr\\u003ePontua\\u00e7a\\u00f5 geral=%{marker.size}\\u003cextra\\u003e\\u003c\\u002fextra\\u003e\",\"legendgroup\":\"Ghost of Tsushima\",\"marker\":{\"color\":\"#FFA15A\",\"size\":[198953.3],\"sizemode\":\"area\",\"sizeref\":379.13208,\"symbol\":\"circle\"},\"mode\":\"markers\",\"name\":\"Ghost of Tsushima\",\"orientation\":\"v\",\"showlegend\":true,\"x\":[2020.0],\"xaxis\":\"x\",\"y\":[198953.3],\"yaxis\":\"y\",\"type\":\"scatter\"},{\"hovertemplate\":\"T\\u00edtulo=The Legend of Zelda: Breath of the Wild\\u003cbr\\u003eSomente o ano de lancamento =%{x}\\u003cbr\\u003ePontua\\u00e7a\\u00f5 geral=%{marker.size}\\u003cextra\\u003e\\u003c\\u002fextra\\u003e\",\"legendgroup\":\"The Legend of Zelda: Breath of the Wild\",\"marker\":{\"color\":\"#19d3f3\",\"size\":[195500.80000000002],\"sizemode\":\"area\",\"sizeref\":379.13208,\"symbol\":\"circle\"},\"mode\":\"markers\",\"name\":\"The Legend of Zelda: Breath of the Wild\",\"orientation\":\"v\",\"showlegend\":true,\"x\":[2017.0],\"xaxis\":\"x\",\"y\":[195500.80000000002],\"yaxis\":\"y\",\"type\":\"scatter\"},{\"hovertemplate\":\"T\\u00edtulo=The Last of Us Remastered\\u003cbr\\u003eSomente o ano de lancamento =%{x}\\u003cbr\\u003ePontua\\u00e7a\\u00f5 geral=%{marker.size}\\u003cextra\\u003e\\u003c\\u002fextra\\u003e\",\"legendgroup\":\"The Last of Us Remastered\",\"marker\":{\"color\":\"#FF6692\",\"size\":[185297.19999999998],\"sizemode\":\"area\",\"sizeref\":379.13208,\"symbol\":\"circle\"},\"mode\":\"markers\",\"name\":\"The Last of Us Remastered\",\"orientation\":\"v\",\"showlegend\":true,\"x\":[2014.0],\"xaxis\":\"x\",\"y\":[185297.19999999998],\"yaxis\":\"y\",\"type\":\"scatter\"},{\"hovertemplate\":\"T\\u00edtulo=The Witcher 3: Wild Hunt\\u003cbr\\u003eSomente o ano de lancamento =%{x}\\u003cbr\\u003ePontua\\u00e7a\\u00f5 geral=%{marker.size}\\u003cextra\\u003e\\u003c\\u002fextra\\u003e\",\"legendgroup\":\"The Witcher 3: Wild Hunt\",\"marker\":{\"color\":\"#B6E880\",\"size\":[180145.19999999998],\"sizemode\":\"area\",\"sizeref\":379.13208,\"symbol\":\"circle\"},\"mode\":\"markers\",\"name\":\"The Witcher 3: Wild Hunt\",\"orientation\":\"v\",\"showlegend\":true,\"x\":[2015.0],\"xaxis\":\"x\",\"y\":[180145.19999999998],\"yaxis\":\"y\",\"type\":\"scatter\"},{\"hovertemplate\":\"T\\u00edtulo=Uncharted 4: A Thief's End\\u003cbr\\u003eSomente o ano de lancamento =%{x}\\u003cbr\\u003ePontua\\u00e7a\\u00f5 geral=%{marker.size}\\u003cextra\\u003e\\u003c\\u002fextra\\u003e\",\"legendgroup\":\"Uncharted 4: A Thief's End\",\"marker\":{\"color\":\"#FF97FF\",\"size\":[153225.6],\"sizemode\":\"area\",\"sizeref\":379.13208,\"symbol\":\"circle\"},\"mode\":\"markers\",\"name\":\"Uncharted 4: A Thief's End\",\"orientation\":\"v\",\"showlegend\":true,\"x\":[2016.0],\"xaxis\":\"x\",\"y\":[153225.6],\"yaxis\":\"y\",\"type\":\"scatter\"},{\"hovertemplate\":\"T\\u00edtulo=Death Stranding\\u003cbr\\u003eSomente o ano de lancamento =%{x}\\u003cbr\\u003ePontua\\u00e7a\\u00f5 geral=%{marker.size}\\u003cextra\\u003e\\u003c\\u002fextra\\u003e\",\"legendgroup\":\"Death Stranding\",\"marker\":{\"color\":\"#FECB52\",\"size\":[138720.4],\"sizemode\":\"area\",\"sizeref\":379.13208,\"symbol\":\"circle\"},\"mode\":\"markers\",\"name\":\"Death Stranding\",\"orientation\":\"v\",\"showlegend\":true,\"x\":[2019.0],\"xaxis\":\"x\",\"y\":[138720.4],\"yaxis\":\"y\",\"type\":\"scatter\"}],                        {\"template\":{\"data\":{\"histogram2dcontour\":[{\"type\":\"histogram2dcontour\",\"colorbar\":{\"outlinewidth\":0,\"ticks\":\"\"},\"colorscale\":[[0.0,\"#0d0887\"],[0.1111111111111111,\"#46039f\"],[0.2222222222222222,\"#7201a8\"],[0.3333333333333333,\"#9c179e\"],[0.4444444444444444,\"#bd3786\"],[0.5555555555555556,\"#d8576b\"],[0.6666666666666666,\"#ed7953\"],[0.7777777777777778,\"#fb9f3a\"],[0.8888888888888888,\"#fdca26\"],[1.0,\"#f0f921\"]]}],\"choropleth\":[{\"type\":\"choropleth\",\"colorbar\":{\"outlinewidth\":0,\"ticks\":\"\"}}],\"histogram2d\":[{\"type\":\"histogram2d\",\"colorbar\":{\"outlinewidth\":0,\"ticks\":\"\"},\"colorscale\":[[0.0,\"#0d0887\"],[0.1111111111111111,\"#46039f\"],[0.2222222222222222,\"#7201a8\"],[0.3333333333333333,\"#9c179e\"],[0.4444444444444444,\"#bd3786\"],[0.5555555555555556,\"#d8576b\"],[0.6666666666666666,\"#ed7953\"],[0.7777777777777778,\"#fb9f3a\"],[0.8888888888888888,\"#fdca26\"],[1.0,\"#f0f921\"]]}],\"heatmap\":[{\"type\":\"heatmap\",\"colorbar\":{\"outlinewidth\":0,\"ticks\":\"\"},\"colorscale\":[[0.0,\"#0d0887\"],[0.1111111111111111,\"#46039f\"],[0.2222222222222222,\"#7201a8\"],[0.3333333333333333,\"#9c179e\"],[0.4444444444444444,\"#bd3786\"],[0.5555555555555556,\"#d8576b\"],[0.6666666666666666,\"#ed7953\"],[0.7777777777777778,\"#fb9f3a\"],[0.8888888888888888,\"#fdca26\"],[1.0,\"#f0f921\"]]}],\"heatmapgl\":[{\"type\":\"heatmapgl\",\"colorbar\":{\"outlinewidth\":0,\"ticks\":\"\"},\"colorscale\":[[0.0,\"#0d0887\"],[0.1111111111111111,\"#46039f\"],[0.2222222222222222,\"#7201a8\"],[0.3333333333333333,\"#9c179e\"],[0.4444444444444444,\"#bd3786\"],[0.5555555555555556,\"#d8576b\"],[0.6666666666666666,\"#ed7953\"],[0.7777777777777778,\"#fb9f3a\"],[0.8888888888888888,\"#fdca26\"],[1.0,\"#f0f921\"]]}],\"contourcarpet\":[{\"type\":\"contourcarpet\",\"colorbar\":{\"outlinewidth\":0,\"ticks\":\"\"}}],\"contour\":[{\"type\":\"contour\",\"colorbar\":{\"outlinewidth\":0,\"ticks\":\"\"},\"colorscale\":[[0.0,\"#0d0887\"],[0.1111111111111111,\"#46039f\"],[0.2222222222222222,\"#7201a8\"],[0.3333333333333333,\"#9c179e\"],[0.4444444444444444,\"#bd3786\"],[0.5555555555555556,\"#d8576b\"],[0.6666666666666666,\"#ed7953\"],[0.7777777777777778,\"#fb9f3a\"],[0.8888888888888888,\"#fdca26\"],[1.0,\"#f0f921\"]]}],\"surface\":[{\"type\":\"surface\",\"colorbar\":{\"outlinewidth\":0,\"ticks\":\"\"},\"colorscale\":[[0.0,\"#0d0887\"],[0.1111111111111111,\"#46039f\"],[0.2222222222222222,\"#7201a8\"],[0.3333333333333333,\"#9c179e\"],[0.4444444444444444,\"#bd3786\"],[0.5555555555555556,\"#d8576b\"],[0.6666666666666666,\"#ed7953\"],[0.7777777777777778,\"#fb9f3a\"],[0.8888888888888888,\"#fdca26\"],[1.0,\"#f0f921\"]]}],\"mesh3d\":[{\"type\":\"mesh3d\",\"colorbar\":{\"outlinewidth\":0,\"ticks\":\"\"}}],\"scatter\":[{\"fillpattern\":{\"fillmode\":\"overlay\",\"size\":10,\"solidity\":0.2},\"type\":\"scatter\"}],\"parcoords\":[{\"type\":\"parcoords\",\"line\":{\"colorbar\":{\"outlinewidth\":0,\"ticks\":\"\"}}}],\"scatterpolargl\":[{\"type\":\"scatterpolargl\",\"marker\":{\"colorbar\":{\"outlinewidth\":0,\"ticks\":\"\"}}}],\"bar\":[{\"error_x\":{\"color\":\"#2a3f5f\"},\"error_y\":{\"color\":\"#2a3f5f\"},\"marker\":{\"line\":{\"color\":\"#E5ECF6\",\"width\":0.5},\"pattern\":{\"fillmode\":\"overlay\",\"size\":10,\"solidity\":0.2}},\"type\":\"bar\"}],\"scattergeo\":[{\"type\":\"scattergeo\",\"marker\":{\"colorbar\":{\"outlinewidth\":0,\"ticks\":\"\"}}}],\"scatterpolar\":[{\"type\":\"scatterpolar\",\"marker\":{\"colorbar\":{\"outlinewidth\":0,\"ticks\":\"\"}}}],\"histogram\":[{\"marker\":{\"pattern\":{\"fillmode\":\"overlay\",\"size\":10,\"solidity\":0.2}},\"type\":\"histogram\"}],\"scattergl\":[{\"type\":\"scattergl\",\"marker\":{\"colorbar\":{\"outlinewidth\":0,\"ticks\":\"\"}}}],\"scatter3d\":[{\"type\":\"scatter3d\",\"line\":{\"colorbar\":{\"outlinewidth\":0,\"ticks\":\"\"}},\"marker\":{\"colorbar\":{\"outlinewidth\":0,\"ticks\":\"\"}}}],\"scattermapbox\":[{\"type\":\"scattermapbox\",\"marker\":{\"colorbar\":{\"outlinewidth\":0,\"ticks\":\"\"}}}],\"scatterternary\":[{\"type\":\"scatterternary\",\"marker\":{\"colorbar\":{\"outlinewidth\":0,\"ticks\":\"\"}}}],\"scattercarpet\":[{\"type\":\"scattercarpet\",\"marker\":{\"colorbar\":{\"outlinewidth\":0,\"ticks\":\"\"}}}],\"carpet\":[{\"aaxis\":{\"endlinecolor\":\"#2a3f5f\",\"gridcolor\":\"white\",\"linecolor\":\"white\",\"minorgridcolor\":\"white\",\"startlinecolor\":\"#2a3f5f\"},\"baxis\":{\"endlinecolor\":\"#2a3f5f\",\"gridcolor\":\"white\",\"linecolor\":\"white\",\"minorgridcolor\":\"white\",\"startlinecolor\":\"#2a3f5f\"},\"type\":\"carpet\"}],\"table\":[{\"cells\":{\"fill\":{\"color\":\"#EBF0F8\"},\"line\":{\"color\":\"white\"}},\"header\":{\"fill\":{\"color\":\"#C8D4E3\"},\"line\":{\"color\":\"white\"}},\"type\":\"table\"}],\"barpolar\":[{\"marker\":{\"line\":{\"color\":\"#E5ECF6\",\"width\":0.5},\"pattern\":{\"fillmode\":\"overlay\",\"size\":10,\"solidity\":0.2}},\"type\":\"barpolar\"}],\"pie\":[{\"automargin\":true,\"type\":\"pie\"}]},\"layout\":{\"autotypenumbers\":\"strict\",\"colorway\":[\"#636efa\",\"#EF553B\",\"#00cc96\",\"#ab63fa\",\"#FFA15A\",\"#19d3f3\",\"#FF6692\",\"#B6E880\",\"#FF97FF\",\"#FECB52\"],\"font\":{\"color\":\"#2a3f5f\"},\"hovermode\":\"closest\",\"hoverlabel\":{\"align\":\"left\"},\"paper_bgcolor\":\"white\",\"plot_bgcolor\":\"#E5ECF6\",\"polar\":{\"bgcolor\":\"#E5ECF6\",\"angularaxis\":{\"gridcolor\":\"white\",\"linecolor\":\"white\",\"ticks\":\"\"},\"radialaxis\":{\"gridcolor\":\"white\",\"linecolor\":\"white\",\"ticks\":\"\"}},\"ternary\":{\"bgcolor\":\"#E5ECF6\",\"aaxis\":{\"gridcolor\":\"white\",\"linecolor\":\"white\",\"ticks\":\"\"},\"baxis\":{\"gridcolor\":\"white\",\"linecolor\":\"white\",\"ticks\":\"\"},\"caxis\":{\"gridcolor\":\"white\",\"linecolor\":\"white\",\"ticks\":\"\"}},\"coloraxis\":{\"colorbar\":{\"outlinewidth\":0,\"ticks\":\"\"}},\"colorscale\":{\"sequential\":[[0.0,\"#0d0887\"],[0.1111111111111111,\"#46039f\"],[0.2222222222222222,\"#7201a8\"],[0.3333333333333333,\"#9c179e\"],[0.4444444444444444,\"#bd3786\"],[0.5555555555555556,\"#d8576b\"],[0.6666666666666666,\"#ed7953\"],[0.7777777777777778,\"#fb9f3a\"],[0.8888888888888888,\"#fdca26\"],[1.0,\"#f0f921\"]],\"sequentialminus\":[[0.0,\"#0d0887\"],[0.1111111111111111,\"#46039f\"],[0.2222222222222222,\"#7201a8\"],[0.3333333333333333,\"#9c179e\"],[0.4444444444444444,\"#bd3786\"],[0.5555555555555556,\"#d8576b\"],[0.6666666666666666,\"#ed7953\"],[0.7777777777777778,\"#fb9f3a\"],[0.8888888888888888,\"#fdca26\"],[1.0,\"#f0f921\"]],\"diverging\":[[0,\"#8e0152\"],[0.1,\"#c51b7d\"],[0.2,\"#de77ae\"],[0.3,\"#f1b6da\"],[0.4,\"#fde0ef\"],[0.5,\"#f7f7f7\"],[0.6,\"#e6f5d0\"],[0.7,\"#b8e186\"],[0.8,\"#7fbc41\"],[0.9,\"#4d9221\"],[1,\"#276419\"]]},\"xaxis\":{\"gridcolor\":\"white\",\"linecolor\":\"white\",\"ticks\":\"\",\"title\":{\"standoff\":15},\"zerolinecolor\":\"white\",\"automargin\":true,\"zerolinewidth\":2},\"yaxis\":{\"gridcolor\":\"white\",\"linecolor\":\"white\",\"ticks\":\"\",\"title\":{\"standoff\":15},\"zerolinecolor\":\"white\",\"automargin\":true,\"zerolinewidth\":2},\"scene\":{\"xaxis\":{\"backgroundcolor\":\"#E5ECF6\",\"gridcolor\":\"white\",\"linecolor\":\"white\",\"showbackground\":true,\"ticks\":\"\",\"zerolinecolor\":\"white\",\"gridwidth\":2},\"yaxis\":{\"backgroundcolor\":\"#E5ECF6\",\"gridcolor\":\"white\",\"linecolor\":\"white\",\"showbackground\":true,\"ticks\":\"\",\"zerolinecolor\":\"white\",\"gridwidth\":2},\"zaxis\":{\"backgroundcolor\":\"#E5ECF6\",\"gridcolor\":\"white\",\"linecolor\":\"white\",\"showbackground\":true,\"ticks\":\"\",\"zerolinecolor\":\"white\",\"gridwidth\":2}},\"shapedefaults\":{\"line\":{\"color\":\"#2a3f5f\"}},\"annotationdefaults\":{\"arrowcolor\":\"#2a3f5f\",\"arrowhead\":0,\"arrowwidth\":1},\"geo\":{\"bgcolor\":\"white\",\"landcolor\":\"#E5ECF6\",\"subunitcolor\":\"white\",\"showland\":true,\"showlakes\":true,\"lakecolor\":\"white\"},\"title\":{\"x\":0.05},\"mapbox\":{\"style\":\"light\"}}},\"xaxis\":{\"anchor\":\"y\",\"domain\":[0.0,1.0],\"title\":{\"text\":\"Somente o ano de lancamento \"},\"type\":\"log\"},\"yaxis\":{\"anchor\":\"x\",\"domain\":[0.0,1.0],\"title\":{\"text\":\"Pontua\\u00e7a\\u00f5 geral\"}},\"legend\":{\"title\":{\"text\":\"T\\u00edtulo\"},\"tracegroupgap\":0,\"itemsizing\":\"constant\"},\"title\":{\"text\":\"Jogos mais populares\"}},                        {\"responsive\": true}                    ).then(function(){\n",
              "                            \n",
              "var gd = document.getElementById('592eb5f1-fd90-4089-b6bd-e7e125761cd3');\n",
              "var x = new MutationObserver(function (mutations, observer) {{\n",
              "        var display = window.getComputedStyle(gd).display;\n",
              "        if (!display || display === 'none') {{\n",
              "            console.log([gd, 'removed!']);\n",
              "            Plotly.purge(gd);\n",
              "            observer.disconnect();\n",
              "        }}\n",
              "}});\n",
              "\n",
              "// Listen for the removal of the full notebook cells\n",
              "var notebookContainer = gd.closest('#notebook-container');\n",
              "if (notebookContainer) {{\n",
              "    x.observe(notebookContainer, {childList: true});\n",
              "}}\n",
              "\n",
              "// Listen for the clearing of the current output cell\n",
              "var outputEl = gd.closest('.output');\n",
              "if (outputEl) {{\n",
              "    x.observe(outputEl, {childList: true});\n",
              "}}\n",
              "\n",
              "                        })                };                            </script>        </div>\n",
              "</body>\n",
              "</html>"
            ]
          },
          "metadata": {}
        }
      ]
    },
    {
      "cell_type": "code",
      "source": [
        "fig=px.bar(top_10_jogos,x='Título',y='Pontuaçaõ geral',color='Pontuaçaõ geral',title='Jogos mais populares')\n",
        "fig.show(render='iframe')"
      ],
      "metadata": {
        "id": "i2ih4xSk2oya",
        "outputId": "32948b81-823f-4bab-f38e-da4cc14c064e",
        "colab": {
          "base_uri": "https://localhost:8080/",
          "height": 542
        }
      },
      "execution_count": 125,
      "outputs": [
        {
          "output_type": "display_data",
          "data": {
            "text/html": [
              "<html>\n",
              "<head><meta charset=\"utf-8\" /></head>\n",
              "<body>\n",
              "    <div>            <script src=\"https://cdnjs.cloudflare.com/ajax/libs/mathjax/2.7.5/MathJax.js?config=TeX-AMS-MML_SVG\"></script><script type=\"text/javascript\">if (window.MathJax && window.MathJax.Hub && window.MathJax.Hub.Config) {window.MathJax.Hub.Config({SVG: {font: \"STIX-Web\"}});}</script>                <script type=\"text/javascript\">window.PlotlyConfig = {MathJaxConfig: 'local'};</script>\n",
              "        <script charset=\"utf-8\" src=\"https://cdn.plot.ly/plotly-2.24.1.min.js\"></script>                <div id=\"4af8e29e-3719-4a3f-b8df-99ce2f0c43f5\" class=\"plotly-graph-div\" style=\"height:525px; width:100%;\"></div>            <script type=\"text/javascript\">                                    window.PLOTLYENV=window.PLOTLYENV || {};                                    if (document.getElementById(\"4af8e29e-3719-4a3f-b8df-99ce2f0c43f5\")) {                    Plotly.newPlot(                        \"4af8e29e-3719-4a3f-b8df-99ce2f0c43f5\",                        [{\"alignmentgroup\":\"True\",\"hovertemplate\":\"T\\u00edtulo=%{x}\\u003cbr\\u003ePontua\\u00e7a\\u00f5 geral=%{marker.color}\\u003cextra\\u003e\\u003c\\u002fextra\\u003e\",\"legendgroup\":\"\",\"marker\":{\"color\":[947830.2,249877.4,226180.5,210100.00000000003,198953.3,195500.80000000002,185297.19999999998,180145.19999999998,153225.6,138720.4],\"coloraxis\":\"coloraxis\",\"pattern\":{\"shape\":\"\"}},\"name\":\"\",\"offsetgroup\":\"\",\"orientation\":\"v\",\"showlegend\":false,\"textposition\":\"auto\",\"x\":[\"The Last of Us Part II\",\"Cyberpunk 2077\",\"God of War\",\"Red Dead Redemption 2\",\"Ghost of Tsushima\",\"The Legend of Zelda: Breath of the Wild\",\"The Last of Us Remastered\",\"The Witcher 3: Wild Hunt\",\"Uncharted 4: A Thief's End\",\"Death Stranding\"],\"xaxis\":\"x\",\"y\":[947830.2,249877.4,226180.5,210100.00000000003,198953.3,195500.80000000002,185297.19999999998,180145.19999999998,153225.6,138720.4],\"yaxis\":\"y\",\"type\":\"bar\"}],                        {\"template\":{\"data\":{\"histogram2dcontour\":[{\"type\":\"histogram2dcontour\",\"colorbar\":{\"outlinewidth\":0,\"ticks\":\"\"},\"colorscale\":[[0.0,\"#0d0887\"],[0.1111111111111111,\"#46039f\"],[0.2222222222222222,\"#7201a8\"],[0.3333333333333333,\"#9c179e\"],[0.4444444444444444,\"#bd3786\"],[0.5555555555555556,\"#d8576b\"],[0.6666666666666666,\"#ed7953\"],[0.7777777777777778,\"#fb9f3a\"],[0.8888888888888888,\"#fdca26\"],[1.0,\"#f0f921\"]]}],\"choropleth\":[{\"type\":\"choropleth\",\"colorbar\":{\"outlinewidth\":0,\"ticks\":\"\"}}],\"histogram2d\":[{\"type\":\"histogram2d\",\"colorbar\":{\"outlinewidth\":0,\"ticks\":\"\"},\"colorscale\":[[0.0,\"#0d0887\"],[0.1111111111111111,\"#46039f\"],[0.2222222222222222,\"#7201a8\"],[0.3333333333333333,\"#9c179e\"],[0.4444444444444444,\"#bd3786\"],[0.5555555555555556,\"#d8576b\"],[0.6666666666666666,\"#ed7953\"],[0.7777777777777778,\"#fb9f3a\"],[0.8888888888888888,\"#fdca26\"],[1.0,\"#f0f921\"]]}],\"heatmap\":[{\"type\":\"heatmap\",\"colorbar\":{\"outlinewidth\":0,\"ticks\":\"\"},\"colorscale\":[[0.0,\"#0d0887\"],[0.1111111111111111,\"#46039f\"],[0.2222222222222222,\"#7201a8\"],[0.3333333333333333,\"#9c179e\"],[0.4444444444444444,\"#bd3786\"],[0.5555555555555556,\"#d8576b\"],[0.6666666666666666,\"#ed7953\"],[0.7777777777777778,\"#fb9f3a\"],[0.8888888888888888,\"#fdca26\"],[1.0,\"#f0f921\"]]}],\"heatmapgl\":[{\"type\":\"heatmapgl\",\"colorbar\":{\"outlinewidth\":0,\"ticks\":\"\"},\"colorscale\":[[0.0,\"#0d0887\"],[0.1111111111111111,\"#46039f\"],[0.2222222222222222,\"#7201a8\"],[0.3333333333333333,\"#9c179e\"],[0.4444444444444444,\"#bd3786\"],[0.5555555555555556,\"#d8576b\"],[0.6666666666666666,\"#ed7953\"],[0.7777777777777778,\"#fb9f3a\"],[0.8888888888888888,\"#fdca26\"],[1.0,\"#f0f921\"]]}],\"contourcarpet\":[{\"type\":\"contourcarpet\",\"colorbar\":{\"outlinewidth\":0,\"ticks\":\"\"}}],\"contour\":[{\"type\":\"contour\",\"colorbar\":{\"outlinewidth\":0,\"ticks\":\"\"},\"colorscale\":[[0.0,\"#0d0887\"],[0.1111111111111111,\"#46039f\"],[0.2222222222222222,\"#7201a8\"],[0.3333333333333333,\"#9c179e\"],[0.4444444444444444,\"#bd3786\"],[0.5555555555555556,\"#d8576b\"],[0.6666666666666666,\"#ed7953\"],[0.7777777777777778,\"#fb9f3a\"],[0.8888888888888888,\"#fdca26\"],[1.0,\"#f0f921\"]]}],\"surface\":[{\"type\":\"surface\",\"colorbar\":{\"outlinewidth\":0,\"ticks\":\"\"},\"colorscale\":[[0.0,\"#0d0887\"],[0.1111111111111111,\"#46039f\"],[0.2222222222222222,\"#7201a8\"],[0.3333333333333333,\"#9c179e\"],[0.4444444444444444,\"#bd3786\"],[0.5555555555555556,\"#d8576b\"],[0.6666666666666666,\"#ed7953\"],[0.7777777777777778,\"#fb9f3a\"],[0.8888888888888888,\"#fdca26\"],[1.0,\"#f0f921\"]]}],\"mesh3d\":[{\"type\":\"mesh3d\",\"colorbar\":{\"outlinewidth\":0,\"ticks\":\"\"}}],\"scatter\":[{\"fillpattern\":{\"fillmode\":\"overlay\",\"size\":10,\"solidity\":0.2},\"type\":\"scatter\"}],\"parcoords\":[{\"type\":\"parcoords\",\"line\":{\"colorbar\":{\"outlinewidth\":0,\"ticks\":\"\"}}}],\"scatterpolargl\":[{\"type\":\"scatterpolargl\",\"marker\":{\"colorbar\":{\"outlinewidth\":0,\"ticks\":\"\"}}}],\"bar\":[{\"error_x\":{\"color\":\"#2a3f5f\"},\"error_y\":{\"color\":\"#2a3f5f\"},\"marker\":{\"line\":{\"color\":\"#E5ECF6\",\"width\":0.5},\"pattern\":{\"fillmode\":\"overlay\",\"size\":10,\"solidity\":0.2}},\"type\":\"bar\"}],\"scattergeo\":[{\"type\":\"scattergeo\",\"marker\":{\"colorbar\":{\"outlinewidth\":0,\"ticks\":\"\"}}}],\"scatterpolar\":[{\"type\":\"scatterpolar\",\"marker\":{\"colorbar\":{\"outlinewidth\":0,\"ticks\":\"\"}}}],\"histogram\":[{\"marker\":{\"pattern\":{\"fillmode\":\"overlay\",\"size\":10,\"solidity\":0.2}},\"type\":\"histogram\"}],\"scattergl\":[{\"type\":\"scattergl\",\"marker\":{\"colorbar\":{\"outlinewidth\":0,\"ticks\":\"\"}}}],\"scatter3d\":[{\"type\":\"scatter3d\",\"line\":{\"colorbar\":{\"outlinewidth\":0,\"ticks\":\"\"}},\"marker\":{\"colorbar\":{\"outlinewidth\":0,\"ticks\":\"\"}}}],\"scattermapbox\":[{\"type\":\"scattermapbox\",\"marker\":{\"colorbar\":{\"outlinewidth\":0,\"ticks\":\"\"}}}],\"scatterternary\":[{\"type\":\"scatterternary\",\"marker\":{\"colorbar\":{\"outlinewidth\":0,\"ticks\":\"\"}}}],\"scattercarpet\":[{\"type\":\"scattercarpet\",\"marker\":{\"colorbar\":{\"outlinewidth\":0,\"ticks\":\"\"}}}],\"carpet\":[{\"aaxis\":{\"endlinecolor\":\"#2a3f5f\",\"gridcolor\":\"white\",\"linecolor\":\"white\",\"minorgridcolor\":\"white\",\"startlinecolor\":\"#2a3f5f\"},\"baxis\":{\"endlinecolor\":\"#2a3f5f\",\"gridcolor\":\"white\",\"linecolor\":\"white\",\"minorgridcolor\":\"white\",\"startlinecolor\":\"#2a3f5f\"},\"type\":\"carpet\"}],\"table\":[{\"cells\":{\"fill\":{\"color\":\"#EBF0F8\"},\"line\":{\"color\":\"white\"}},\"header\":{\"fill\":{\"color\":\"#C8D4E3\"},\"line\":{\"color\":\"white\"}},\"type\":\"table\"}],\"barpolar\":[{\"marker\":{\"line\":{\"color\":\"#E5ECF6\",\"width\":0.5},\"pattern\":{\"fillmode\":\"overlay\",\"size\":10,\"solidity\":0.2}},\"type\":\"barpolar\"}],\"pie\":[{\"automargin\":true,\"type\":\"pie\"}]},\"layout\":{\"autotypenumbers\":\"strict\",\"colorway\":[\"#636efa\",\"#EF553B\",\"#00cc96\",\"#ab63fa\",\"#FFA15A\",\"#19d3f3\",\"#FF6692\",\"#B6E880\",\"#FF97FF\",\"#FECB52\"],\"font\":{\"color\":\"#2a3f5f\"},\"hovermode\":\"closest\",\"hoverlabel\":{\"align\":\"left\"},\"paper_bgcolor\":\"white\",\"plot_bgcolor\":\"#E5ECF6\",\"polar\":{\"bgcolor\":\"#E5ECF6\",\"angularaxis\":{\"gridcolor\":\"white\",\"linecolor\":\"white\",\"ticks\":\"\"},\"radialaxis\":{\"gridcolor\":\"white\",\"linecolor\":\"white\",\"ticks\":\"\"}},\"ternary\":{\"bgcolor\":\"#E5ECF6\",\"aaxis\":{\"gridcolor\":\"white\",\"linecolor\":\"white\",\"ticks\":\"\"},\"baxis\":{\"gridcolor\":\"white\",\"linecolor\":\"white\",\"ticks\":\"\"},\"caxis\":{\"gridcolor\":\"white\",\"linecolor\":\"white\",\"ticks\":\"\"}},\"coloraxis\":{\"colorbar\":{\"outlinewidth\":0,\"ticks\":\"\"}},\"colorscale\":{\"sequential\":[[0.0,\"#0d0887\"],[0.1111111111111111,\"#46039f\"],[0.2222222222222222,\"#7201a8\"],[0.3333333333333333,\"#9c179e\"],[0.4444444444444444,\"#bd3786\"],[0.5555555555555556,\"#d8576b\"],[0.6666666666666666,\"#ed7953\"],[0.7777777777777778,\"#fb9f3a\"],[0.8888888888888888,\"#fdca26\"],[1.0,\"#f0f921\"]],\"sequentialminus\":[[0.0,\"#0d0887\"],[0.1111111111111111,\"#46039f\"],[0.2222222222222222,\"#7201a8\"],[0.3333333333333333,\"#9c179e\"],[0.4444444444444444,\"#bd3786\"],[0.5555555555555556,\"#d8576b\"],[0.6666666666666666,\"#ed7953\"],[0.7777777777777778,\"#fb9f3a\"],[0.8888888888888888,\"#fdca26\"],[1.0,\"#f0f921\"]],\"diverging\":[[0,\"#8e0152\"],[0.1,\"#c51b7d\"],[0.2,\"#de77ae\"],[0.3,\"#f1b6da\"],[0.4,\"#fde0ef\"],[0.5,\"#f7f7f7\"],[0.6,\"#e6f5d0\"],[0.7,\"#b8e186\"],[0.8,\"#7fbc41\"],[0.9,\"#4d9221\"],[1,\"#276419\"]]},\"xaxis\":{\"gridcolor\":\"white\",\"linecolor\":\"white\",\"ticks\":\"\",\"title\":{\"standoff\":15},\"zerolinecolor\":\"white\",\"automargin\":true,\"zerolinewidth\":2},\"yaxis\":{\"gridcolor\":\"white\",\"linecolor\":\"white\",\"ticks\":\"\",\"title\":{\"standoff\":15},\"zerolinecolor\":\"white\",\"automargin\":true,\"zerolinewidth\":2},\"scene\":{\"xaxis\":{\"backgroundcolor\":\"#E5ECF6\",\"gridcolor\":\"white\",\"linecolor\":\"white\",\"showbackground\":true,\"ticks\":\"\",\"zerolinecolor\":\"white\",\"gridwidth\":2},\"yaxis\":{\"backgroundcolor\":\"#E5ECF6\",\"gridcolor\":\"white\",\"linecolor\":\"white\",\"showbackground\":true,\"ticks\":\"\",\"zerolinecolor\":\"white\",\"gridwidth\":2},\"zaxis\":{\"backgroundcolor\":\"#E5ECF6\",\"gridcolor\":\"white\",\"linecolor\":\"white\",\"showbackground\":true,\"ticks\":\"\",\"zerolinecolor\":\"white\",\"gridwidth\":2}},\"shapedefaults\":{\"line\":{\"color\":\"#2a3f5f\"}},\"annotationdefaults\":{\"arrowcolor\":\"#2a3f5f\",\"arrowhead\":0,\"arrowwidth\":1},\"geo\":{\"bgcolor\":\"white\",\"landcolor\":\"#E5ECF6\",\"subunitcolor\":\"white\",\"showland\":true,\"showlakes\":true,\"lakecolor\":\"white\"},\"title\":{\"x\":0.05},\"mapbox\":{\"style\":\"light\"}}},\"xaxis\":{\"anchor\":\"y\",\"domain\":[0.0,1.0],\"title\":{\"text\":\"T\\u00edtulo\"}},\"yaxis\":{\"anchor\":\"x\",\"domain\":[0.0,1.0],\"title\":{\"text\":\"Pontua\\u00e7a\\u00f5 geral\"}},\"coloraxis\":{\"colorbar\":{\"title\":{\"text\":\"Pontua\\u00e7a\\u00f5 geral\"}},\"colorscale\":[[0.0,\"#0d0887\"],[0.1111111111111111,\"#46039f\"],[0.2222222222222222,\"#7201a8\"],[0.3333333333333333,\"#9c179e\"],[0.4444444444444444,\"#bd3786\"],[0.5555555555555556,\"#d8576b\"],[0.6666666666666666,\"#ed7953\"],[0.7777777777777778,\"#fb9f3a\"],[0.8888888888888888,\"#fdca26\"],[1.0,\"#f0f921\"]]},\"legend\":{\"tracegroupgap\":0},\"title\":{\"text\":\"Jogos mais populares\"},\"barmode\":\"relative\"},                        {\"responsive\": true}                    ).then(function(){\n",
              "                            \n",
              "var gd = document.getElementById('4af8e29e-3719-4a3f-b8df-99ce2f0c43f5');\n",
              "var x = new MutationObserver(function (mutations, observer) {{\n",
              "        var display = window.getComputedStyle(gd).display;\n",
              "        if (!display || display === 'none') {{\n",
              "            console.log([gd, 'removed!']);\n",
              "            Plotly.purge(gd);\n",
              "            observer.disconnect();\n",
              "        }}\n",
              "}});\n",
              "\n",
              "// Listen for the removal of the full notebook cells\n",
              "var notebookContainer = gd.closest('#notebook-container');\n",
              "if (notebookContainer) {{\n",
              "    x.observe(notebookContainer, {childList: true});\n",
              "}}\n",
              "\n",
              "// Listen for the clearing of the current output cell\n",
              "var outputEl = gd.closest('.output');\n",
              "if (outputEl) {{\n",
              "    x.observe(outputEl, {childList: true});\n",
              "}}\n",
              "\n",
              "                        })                };                            </script>        </div>\n",
              "</body>\n",
              "</html>"
            ]
          },
          "metadata": {}
        }
      ]
    },
    {
      "cell_type": "markdown",
      "source": [
        "**Conclusão sobre o jogo mais popular.**\n",
        "\n",
        "🎮 Seria The last of us parte 2 um outlier? Ou realmente repercutiu a ponto de tantas pessoas fazerem questão de deixar sua avaliação (positiva ou negativa) em comparação com os outros?\n",
        "Lembrando que Cyberpunk 2077 e God of War também foram jogos que causaram bastante repercussão, seja por expectativas criadas nos usuários ou decisões narrativas. Mas nenhum desses teve uma popularidade tão alta quanto TLOU parte 2. 🕹️"
      ],
      "metadata": {
        "id": "oSfMVB1mLY8w"
      }
    },
    {
      "cell_type": "markdown",
      "source": [
        "#Analises a parte:"
      ],
      "metadata": {
        "id": "3G7W_w2345fI"
      }
    },
    {
      "cell_type": "code",
      "source": [
        "avaliacao_vs_pontuacao = df_auxiliar.groupby('Avaliação do Produto')['Pontuação do Usuário'].mean()\n",
        "print(avaliacao_vs_pontuacao)"
      ],
      "metadata": {
        "id": "C1AhlNiYxhUt",
        "outputId": "ae4b3f71-61b5-401e-faa1-8f3ebc3f95ff",
        "colab": {
          "base_uri": "https://localhost:8080/"
        }
      },
      "execution_count": 121,
      "outputs": [
        {
          "output_type": "stream",
          "name": "stdout",
          "text": [
            "Avaliação do Produto\n",
            "Rated AO For Adults Only        3.200000\n",
            "Rated E +10 For Everyone +10    6.952457\n",
            "Rated E For Everyone            6.928472\n",
            "Rated M For Mature              7.000622\n",
            "Rated RP For Rate Pending       6.858824\n",
            "Rated T For Teen                7.008683\n",
            "Name: Pontuação do Usuário, dtype: float64\n"
          ]
        }
      ]
    },
    {
      "cell_type": "code",
      "source": [
        "relacao_pontuacao_avaliacoes = df_auxiliar[['Pontuaçaõ geral', 'Número de Avaliações do Usuário']].corr()\n",
        "print(\"Relação entre pontuação do usuário e número de avaliações:\")\n",
        "print(relacao_pontuacao_avaliacoes)"
      ],
      "metadata": {
        "id": "aCK-rqP_1V_0",
        "outputId": "a71b76bf-7f7c-4a8f-c237-c90c8c967f81",
        "colab": {
          "base_uri": "https://localhost:8080/"
        }
      },
      "execution_count": 115,
      "outputs": [
        {
          "output_type": "stream",
          "name": "stdout",
          "text": [
            "Relação entre pontuação do usuário e número de avaliações:\n",
            "                                 Pontuaçaõ geral  \\\n",
            "Pontuaçaõ geral                         1.000000   \n",
            "Número de Avaliações do Usuário         0.968042   \n",
            "\n",
            "                                 Número de Avaliações do Usuário  \n",
            "Pontuaçaõ geral                                         0.968042  \n",
            "Número de Avaliações do Usuário                         1.000000  \n"
          ]
        }
      ]
    },
    {
      "cell_type": "code",
      "source": [
        "generos_mais_populares = df_auxiliar['Gêneros'].value_counts().head(3)\n",
        "print(\"Gêneros mais populares:\")\n",
        "print(generos_mais_populares)\n",
        "print()"
      ],
      "metadata": {
        "id": "pFM7jHNF0-FU",
        "outputId": "e5cbb7fb-18a7-4e73-c82b-62f783702f96",
        "colab": {
          "base_uri": "https://localhost:8080/"
        }
      },
      "execution_count": 110,
      "outputs": [
        {
          "output_type": "stream",
          "name": "stdout",
          "text": [
            "Gêneros mais populares:\n",
            "Action Adventure    732\n",
            "2D Platformer       716\n",
            "Action RPG          642\n",
            "Name: Gêneros, dtype: int64\n",
            "\n"
          ]
        }
      ]
    },
    {
      "cell_type": "code",
      "source": [
        "#Os melhores generos de jogos.\n",
        "generos_top = df_auxiliar.groupby('Gêneros')['Pontuaçaõ geral'].mean().nlargest(3)\n",
        "print(generos_top)"
      ],
      "metadata": {
        "id": "sywxiQegxI8k",
        "outputId": "cfc527f4-1a22-4d52-b048-ed85a127749a",
        "colab": {
          "base_uri": "https://localhost:8080/"
        }
      },
      "execution_count": 112,
      "outputs": [
        {
          "output_type": "stream",
          "name": "stdout",
          "text": [
            "Gêneros\n",
            "Open-World Action          8060.778042\n",
            "Linear Action Adventure    8012.070414\n",
            "Survival                   5460.953548\n",
            "Name: Pontuaçaõ geral, dtype: float64\n"
          ]
        }
      ]
    },
    {
      "cell_type": "code",
      "source": [
        "#Conseguimos localizar qual sao as editoras e os desenvolvedores mais top.\n",
        "desenvolvedores_top = df_auxiliar.groupby('Desenvolvedor')['Pontuaçaõ geral'].mean().nlargest(3)\n",
        "editoras_top = df_auxiliar.groupby('Editora')['Pontuaçaõ geral'].mean().nlargest(3)\n",
        "print(desenvolvedores_top,'\\n',editoras_top)"
      ],
      "metadata": {
        "id": "bO3OcGrNqhRR",
        "outputId": "3e2e871e-324f-41cd-c58a-e3026b5bda74",
        "colab": {
          "base_uri": "https://localhost:8080/"
        }
      },
      "execution_count": 94,
      "outputs": [
        {
          "output_type": "stream",
          "name": "stdout",
          "text": [
            "Desenvolvedor\n",
            "Naughty Dog              92339.683333\n",
            "Rockstar Games           72919.533333\n",
            "CD Projekt Red Studio    52636.645455\n",
            "Name: Pontuaçaõ geral, dtype: float64 \n",
            " Editora\n",
            "tobyfox                  48518.000000\n",
            "CD Projekt Red Studio    40332.685714\n",
            "Larian Studios Games     37661.300000\n",
            "Name: Pontuaçaõ geral, dtype: float64\n"
          ]
        }
      ]
    },
    {
      "cell_type": "code",
      "source": [
        "colunas_nominais = ['Título', 'Desenvolvedor', 'Editora', 'Gêneros', 'Gêneros Separados', 'Informações das Plataformas']\n",
        "colunas_numericas = ['Avaliação do Produto', 'Pontuação do Usuário', 'Número de Avaliações do Usuário', 'Somente o ano de lancamento', 'Pontuaçaõ geral']\n",
        "\n",
        "for coluna in df_auxiliar.columns:\n",
        "    if coluna in colunas_nominais:\n",
        "        tipo = 'nominal'\n",
        "    elif coluna in colunas_numericas:\n",
        "        tipo = 'numérica'\n",
        "    else:\n",
        "        tipo = 'Data'  # Adicione classificação para outros tipos de dados, como datas\n",
        "    print(f'A coluna \"{coluna}\" é do tipo {tipo}.')"
      ],
      "metadata": {
        "id": "qtDEgBWVFYZr",
        "outputId": "228fab69-c8c1-45b2-a45b-ade7fde914a7",
        "colab": {
          "base_uri": "https://localhost:8080/"
        }
      },
      "execution_count": null,
      "outputs": [
        {
          "output_type": "stream",
          "name": "stdout",
          "text": [
            "A coluna \"Título\" é do tipo nominal.\n",
            "A coluna \"Ano de Lançamento\" é do tipo Data.\n",
            "A coluna \"Desenvolvedor\" é do tipo nominal.\n",
            "A coluna \"Editora\" é do tipo nominal.\n",
            "A coluna \"Gêneros\" é do tipo nominal.\n",
            "A coluna \"Gêneros Separados\" é do tipo nominal.\n",
            "A coluna \"Avaliação do Produto\" é do tipo numérica.\n",
            "A coluna \"Pontuação do Usuário\" é do tipo numérica.\n",
            "A coluna \"Número de Avaliações do Usuário\" é do tipo numérica.\n",
            "A coluna \"Informações das Plataformas\" é do tipo nominal.\n",
            "A coluna \"Pontuaçaõ geral\" é do tipo numérica.\n",
            "A coluna \"Somente o ano de lancamento \" é do tipo Data.\n"
          ]
        }
      ]
    },
    {
      "cell_type": "code",
      "source": [
        "plt.figure(figsize=(10, 6))\n",
        "df_auxiliar.groupby(df_auxiliar['Ano de Lançamento'].dt.year)['Pontuação do Usuário'].mean().plot(marker='o', color='green')\n",
        "plt.xlabel('Ano de Lançamento')\n",
        "plt.ylabel('Pontuação Média do Usuário')\n",
        "plt.title('Evolução da Pontuação Média do Usuário ao Longo do Tempo')\n",
        "plt.grid(True)\n",
        "plt.show()"
      ],
      "metadata": {
        "colab": {
          "base_uri": "https://localhost:8080/",
          "height": 565
        },
        "id": "B6oYzbAS8E17",
        "outputId": "e412b218-96ed-4d9a-99d0-a21b0c2a3879"
      },
      "execution_count": null,
      "outputs": [
        {
          "output_type": "display_data",
          "data": {
            "text/plain": [
              "<Figure size 1000x600 with 1 Axes>"
            ],
            "image/png": "[encoded data removed]"
          },
          "metadata": {}
        }
      ]
    },
    {
      "cell_type": "code",
      "source": [
        "# Gráfico de dispersão entre pontuação do usuário e número de avaliações\n",
        "plt.figure(figsize=(10, 6))\n",
        "sns.scatterplot(x='Número de Avaliações do Usuário', y='Pontuação do Usuário', data=dados)\n",
        "plt.title('Dispersão entre Pontuação do Usuário e Número de Avaliações do Usuário')\n",
        "plt.xlabel('Número de Avaliações do Usuário')\n",
        "plt.ylabel('Pontuação do Usuário')\n",
        "plt.show()"
      ],
      "metadata": {
        "id": "nZ6-74ME6jmS",
        "outputId": "dd8f0b6b-0ffe-492b-c4c7-256cb6de6906",
        "colab": {
          "base_uri": "https://localhost:8080/",
          "height": 565
        }
      },
      "execution_count": null,
      "outputs": [
        {
          "output_type": "display_data",
          "data": {
            "text/plain": [
              "<Figure size 1000x600 with 1 Axes>"
            ],
            "image/png": "[encoded data removed]"
          },
          "metadata": {}
        }
      ]
    },
    {
      "cell_type": "code",
      "source": [
        "# Gráfico de barras para contagem de jogos por ano de lançamento\n",
        "plt.figure(figsize=(12, 6))\n",
        "sns.countplot(x=df_auxiliar['Somente o ano de lancamento '])\n",
        "plt.title('Número de Jogos por Ano de Lançamento')\n",
        "plt.xlabel('Ano de Lançamento')\n",
        "plt.ylabel('Contagem')\n",
        "plt.xticks(rotation=45)\n",
        "plt.show()"
      ],
      "metadata": {
        "id": "znkGyg-F6qGW",
        "outputId": "e59b1be0-f38b-44a6-baff-affaef43f403",
        "colab": {
          "base_uri": "https://localhost:8080/",
          "height": 617
        }
      },
      "execution_count": 70,
      "outputs": [
        {
          "output_type": "display_data",
          "data": {
            "text/plain": [
              "<Figure size 1200x600 with 1 Axes>"
            ],
            "image/png": "[encoded data removed]"
          },
          "metadata": {}
        }
      ]
    },
    {
      "cell_type": "code",
      "source": [
        "sns.boxplot(x=df_auxiliar['Pontuação do Usuário'])\n",
        "plt.xlabel('Pontuação do Usuário')\n",
        "plt.title('Boxplot da Pontuação do Usuário')\n",
        "plt.show()\n"
      ],
      "metadata": {
        "colab": {
          "base_uri": "https://localhost:8080/",
          "height": 473
        },
        "id": "cig_B6G2BlqR",
        "outputId": "107bd3f5-2ad0-4d80-f8b6-f340dffd9619"
      },
      "execution_count": null,
      "outputs": [
        {
          "output_type": "display_data",
          "data": {
            "text/plain": [
              "<Figure size 640x480 with 1 Axes>"
            ],
            "image/png": "[encoded data removed]"
          },
          "metadata": {}
        }
      ]
    },
    {
      "cell_type": "code",
      "source": [
        "plt.figure(figsize=(10, 6))\n",
        "sns.boxplot(x=dados['Número de Avaliações do Usuário'])\n",
        "plt.title('Boxplot do Número de Avaliações do Usuário')\n",
        "plt.xlabel('Número de Avaliações do Usuário')\n",
        "plt.show()"
      ],
      "metadata": {
        "id": "dBaasbB46Y0r",
        "outputId": "1cf06137-b779-47e1-a171-9b9326d3ac96",
        "colab": {
          "base_uri": "https://localhost:8080/",
          "height": 565
        }
      },
      "execution_count": null,
      "outputs": [
        {
          "output_type": "display_data",
          "data": {
            "text/plain": [
              "<Figure size 1000x600 with 1 Axes>"
            ],
            "image/png": "[encoded data removed]"
          },
          "metadata": {}
        }
      ]
    },
    {
      "cell_type": "code",
      "source": [
        "# Histograma da pontuação do usuário\n",
        "plt.figure(figsize=(10, 6))\n",
        "sns.histplot(df_auxiliar['Pontuação do Usuário'], kde=True, bins=30)\n",
        "plt.title('Distribuição da Pontuação do Usuário')\n",
        "plt.xlabel('Pontuação do Usuário')\n",
        "plt.ylabel('Frequência')\n",
        "plt.show()"
      ],
      "metadata": {
        "id": "jqpcTZUY53e4",
        "outputId": "47052997-8129-415f-e78e-0129a9493bdc",
        "colab": {
          "base_uri": "https://localhost:8080/",
          "height": 565
        }
      },
      "execution_count": null,
      "outputs": [
        {
          "output_type": "display_data",
          "data": {
            "text/plain": [
              "<Figure size 1000x600 with 1 Axes>"
            ],
            "image/png": "[encoded data removed]"
          },
          "metadata": {}
        }
      ]
    },
    {
      "cell_type": "code",
      "source": [],
      "metadata": {
        "id": "7CEc26MgMw-S"
      },
      "execution_count": null,
      "outputs": []
    }
  ]
}